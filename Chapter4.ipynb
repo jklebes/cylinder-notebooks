{
 "cells": [
  {
   "cell_type": "code",
   "execution_count": 1,
   "id": "specific-professional",
   "metadata": {},
   "outputs": [],
   "source": [
    "import pandas as pd\n",
    "import seaborn as sb\n",
    "import matplotlib.pyplot as plt\n",
    "import matplotlib.colors\n",
    "import os\n",
    "import numpy as np\n",
    "import math\n",
    "import cmath\n",
    "plt.rcParams['text.usetex'] = True\n",
    "plt.rcParams['figure.figsize'] = (7,8)\n",
    "plt.rcParams['axes.labelsize'] = 38"
   ]
  },
  {
   "cell_type": "markdown",
   "id": "expensive-empire",
   "metadata": {},
   "source": [
    "Let's do a plot k x gamma/u or k x u/gamma (relative field:external energies) with field."
   ]
  },
  {
   "cell_type": "markdown",
   "id": "unavailable-theta",
   "metadata": {},
   "source": [
    "decide on: alpha = -5, c = .5, n=6, kappa=H0=0."
   ]
  },
  {
   "cell_type": "markdown",
   "id": "systematic-industry",
   "metadata": {},
   "source": [
    "At each k from .2 to 1.2, I need field energies for all a, but only alpha=-5, c=.6 simultaions."
   ]
  },
  {
   "cell_type": "code",
   "execution_count": 2,
   "id": "dedicated-sampling",
   "metadata": {},
   "outputs": [],
   "source": [
    "ks = range(2,13,1)\n",
    "alpha=-5\n",
    "c=0.5"
   ]
  },
  {
   "cell_type": "code",
   "execution_count": 3,
   "id": "monthly-original",
   "metadata": {},
   "outputs": [],
   "source": [
    "paths= dict([])\n",
    "for k in ks:\n",
    "    paths_k = dict([(a,\"/home/jsk/cylinder/fixed_surfaces/k\"+str(k)+\"a\"+str(a)) for a in range(10)])\n",
    "    paths[k] = paths_k"
   ]
  },
  {
   "cell_type": "code",
   "execution_count": 4,
   "id": "covered-contamination",
   "metadata": {},
   "outputs": [],
   "source": [
    "def sort_csv(filename, dtype=float, fct=(lambda x: abs(x))):\n",
    "    if dtype==complex:\n",
    "        dtype = str\n",
    "        data=pd.read_csv(filename, index_col=0)\n",
    "        data=data.applymap(complex)\n",
    "        data=data.applymap(lambda x: fct(x))\n",
    "    else:\n",
    "        data=pd.read_csv(filename, index_col=0, dtype=dtype)\n",
    "    data.columns = data.columns.astype(\"float\")\n",
    "    data.index = data.index.astype(\"float\")\n",
    "    pd.DataFrame.sort_index(data, axis=0, inplace=True)\n",
    "    pd.DataFrame.sort_index(data, axis=1, inplace=True)\n",
    "    return data"
   ]
  },
  {
   "cell_type": "code",
   "execution_count": 5,
   "id": "invalid-uncertainty",
   "metadata": {},
   "outputs": [],
   "source": [
    "field_energies=dict([])\n",
    "for k in ks:\n",
    "    field_energies_k = dict([(a,sort_csv(os.path.join(paths[k][a], \"field_energy.csv\"), dtype=complex)) for a in paths[k]])\n",
    "    field_energies[k]= field_energies_k\n",
    "#dict to dataframe\n"
   ]
  },
  {
   "cell_type": "code",
   "execution_count": 6,
   "id": "timely-return",
   "metadata": {},
   "outputs": [
    {
     "data": {
      "text/plain": [
       "295.949021378129"
      ]
     },
     "execution_count": 6,
     "metadata": {},
     "output_type": "execute_result"
    }
   ],
   "source": [
    "field_energies[6][6].loc[c,alpha]"
   ]
  },
  {
   "cell_type": "markdown",
   "id": "sensitive-colonial",
   "metadata": {},
   "source": [
    "I then combine with surface tension to get energy minimizing a."
   ]
  },
  {
   "cell_type": "markdown",
   "id": "danish-newcastle",
   "metadata": {},
   "source": [
    "Retrieve surface area values (all energies are /2pi)"
   ]
  },
  {
   "cell_type": "code",
   "execution_count": 18,
   "id": "moderate-minneapolis",
   "metadata": {},
   "outputs": [
    {
     "data": {
      "text/html": [
       "<div>\n",
       "<style scoped>\n",
       "    .dataframe tbody tr th:only-of-type {\n",
       "        vertical-align: middle;\n",
       "    }\n",
       "\n",
       "    .dataframe tbody tr th {\n",
       "        vertical-align: top;\n",
       "    }\n",
       "\n",
       "    .dataframe thead th {\n",
       "        text-align: right;\n",
       "    }\n",
       "</style>\n",
       "<table border=\"1\" class=\"dataframe\">\n",
       "  <thead>\n",
       "    <tr style=\"text-align: right;\">\n",
       "      <th></th>\n",
       "      <th>0.2</th>\n",
       "      <th>0.3</th>\n",
       "      <th>0.4</th>\n",
       "      <th>0.5</th>\n",
       "      <th>0.6</th>\n",
       "      <th>0.7</th>\n",
       "      <th>0.8</th>\n",
       "      <th>0.9</th>\n",
       "      <th>1.0</th>\n",
       "      <th>1.1</th>\n",
       "      <th>1.2</th>\n",
       "    </tr>\n",
       "  </thead>\n",
       "  <tbody>\n",
       "    <tr>\n",
       "      <th>0.0</th>\n",
       "      <td>31.415927</td>\n",
       "      <td>20.943951</td>\n",
       "      <td>15.707963</td>\n",
       "      <td>12.566371</td>\n",
       "      <td>10.471976</td>\n",
       "      <td>8.975979</td>\n",
       "      <td>7.853982</td>\n",
       "      <td>6.981317</td>\n",
       "      <td>6.283185</td>\n",
       "      <td>5.711987</td>\n",
       "      <td>5.235988</td>\n",
       "    </tr>\n",
       "    <tr>\n",
       "      <th>0.1</th>\n",
       "      <td>31.340798</td>\n",
       "      <td>20.896463</td>\n",
       "      <td>15.675075</td>\n",
       "      <td>12.542864</td>\n",
       "      <td>10.455242</td>\n",
       "      <td>8.964527</td>\n",
       "      <td>7.846878</td>\n",
       "      <td>6.977940</td>\n",
       "      <td>6.283098</td>\n",
       "      <td>5.714871</td>\n",
       "      <td>5.241606</td>\n",
       "    </tr>\n",
       "    <tr>\n",
       "      <th>0.2</th>\n",
       "      <td>31.118597</td>\n",
       "      <td>20.755887</td>\n",
       "      <td>15.577570</td>\n",
       "      <td>12.473002</td>\n",
       "      <td>10.405300</td>\n",
       "      <td>8.930086</td>\n",
       "      <td>7.825168</td>\n",
       "      <td>6.967105</td>\n",
       "      <td>6.281832</td>\n",
       "      <td>5.722216</td>\n",
       "      <td>5.256835</td>\n",
       "    </tr>\n",
       "    <tr>\n",
       "      <th>0.3</th>\n",
       "      <td>30.758515</td>\n",
       "      <td>20.527687</td>\n",
       "      <td>15.418832</td>\n",
       "      <td>12.358730</td>\n",
       "      <td>10.322969</td>\n",
       "      <td>8.872507</td>\n",
       "      <td>7.787817</td>\n",
       "      <td>6.946938</td>\n",
       "      <td>6.276688</td>\n",
       "      <td>5.730493</td>\n",
       "      <td>5.277303</td>\n",
       "    </tr>\n",
       "    <tr>\n",
       "      <th>0.4</th>\n",
       "      <td>30.274725</td>\n",
       "      <td>20.220337</td>\n",
       "      <td>15.204171</td>\n",
       "      <td>12.203193</td>\n",
       "      <td>10.209704</td>\n",
       "      <td>8.791816</td>\n",
       "      <td>7.733573</td>\n",
       "      <td>6.914987</td>\n",
       "      <td>6.264059</td>\n",
       "      <td>5.734965</td>\n",
       "      <td>5.297151</td>\n",
       "    </tr>\n",
       "    <tr>\n",
       "      <th>0.5</th>\n",
       "      <td>29.684931</td>\n",
       "      <td>19.844510</td>\n",
       "      <td>14.940386</td>\n",
       "      <td>12.010563</td>\n",
       "      <td>10.067667</td>\n",
       "      <td>8.688504</td>\n",
       "      <td>7.661452</td>\n",
       "      <td>6.868928</td>\n",
       "      <td>6.240368</td>\n",
       "      <td>5.730861</td>\n",
       "      <td>5.310462</td>\n",
       "    </tr>\n",
       "    <tr>\n",
       "      <th>0.6</th>\n",
       "      <td>29.008736</td>\n",
       "      <td>19.412145</td>\n",
       "      <td>14.635234</td>\n",
       "      <td>11.785805</td>\n",
       "      <td>9.899717</td>\n",
       "      <td>8.563716</td>\n",
       "      <td>7.571137</td>\n",
       "      <td>6.807146</td>\n",
       "      <td>6.202826</td>\n",
       "      <td>5.714318</td>\n",
       "      <td>5.312379</td>\n",
       "    </tr>\n",
       "    <tr>\n",
       "      <th>0.7</th>\n",
       "      <td>28.266115</td>\n",
       "      <td>18.935550</td>\n",
       "      <td>14.296890</td>\n",
       "      <td>11.534372</td>\n",
       "      <td>9.709301</td>\n",
       "      <td>8.419308</td>\n",
       "      <td>7.463161</td>\n",
       "      <td>6.729042</td>\n",
       "      <td>6.149849</td>\n",
       "      <td>5.682881</td>\n",
       "      <td>5.299679</td>\n",
       "    </tr>\n",
       "    <tr>\n",
       "      <th>0.8</th>\n",
       "      <td>27.476153</td>\n",
       "      <td>18.426637</td>\n",
       "      <td>13.933444</td>\n",
       "      <td>11.261889</td>\n",
       "      <td>9.500265</td>\n",
       "      <td>8.257752</td>\n",
       "      <td>7.338890</td>\n",
       "      <td>6.635069</td>\n",
       "      <td>6.081123</td>\n",
       "      <td>5.635594</td>\n",
       "      <td>5.270860</td>\n",
       "    </tr>\n",
       "    <tr>\n",
       "      <th>0.9</th>\n",
       "      <td>26.656162</td>\n",
       "      <td>17.896361</td>\n",
       "      <td>13.552515</td>\n",
       "      <td>10.973856</td>\n",
       "      <td>9.276619</td>\n",
       "      <td>8.081942</td>\n",
       "      <td>7.200349</td>\n",
       "      <td>6.526564</td>\n",
       "      <td>5.997432</td>\n",
       "      <td>5.572792</td>\n",
       "      <td>5.225903</td>\n",
       "    </tr>\n",
       "  </tbody>\n",
       "</table>\n",
       "</div>"
      ],
      "text/plain": [
       "           0.2        0.3        0.4        0.5        0.6       0.7  \\\n",
       "0.0  31.415927  20.943951  15.707963  12.566371  10.471976  8.975979   \n",
       "0.1  31.340798  20.896463  15.675075  12.542864  10.455242  8.964527   \n",
       "0.2  31.118597  20.755887  15.577570  12.473002  10.405300  8.930086   \n",
       "0.3  30.758515  20.527687  15.418832  12.358730  10.322969  8.872507   \n",
       "0.4  30.274725  20.220337  15.204171  12.203193  10.209704  8.791816   \n",
       "0.5  29.684931  19.844510  14.940386  12.010563  10.067667  8.688504   \n",
       "0.6  29.008736  19.412145  14.635234  11.785805   9.899717  8.563716   \n",
       "0.7  28.266115  18.935550  14.296890  11.534372   9.709301  8.419308   \n",
       "0.8  27.476153  18.426637  13.933444  11.261889   9.500265  8.257752   \n",
       "0.9  26.656162  17.896361  13.552515  10.973856   9.276619  8.081942   \n",
       "\n",
       "          0.8       0.9       1.0       1.1       1.2  \n",
       "0.0  7.853982  6.981317  6.283185  5.711987  5.235988  \n",
       "0.1  7.846878  6.977940  6.283098  5.714871  5.241606  \n",
       "0.2  7.825168  6.967105  6.281832  5.722216  5.256835  \n",
       "0.3  7.787817  6.946938  6.276688  5.730493  5.277303  \n",
       "0.4  7.733573  6.914987  6.264059  5.734965  5.297151  \n",
       "0.5  7.661452  6.868928  6.240368  5.730861  5.310462  \n",
       "0.6  7.571137  6.807146  6.202826  5.714318  5.312379  \n",
       "0.7  7.463161  6.729042  6.149849  5.682881  5.299679  \n",
       "0.8  7.338890  6.635069  6.081123  5.635594  5.270860  \n",
       "0.9  7.200349  6.526564  5.997432  5.572792  5.225903  "
      ]
     },
     "execution_count": 18,
     "metadata": {},
     "output_type": "execute_result"
    }
   ],
   "source": [
    "surfdatatens=pd.read_csv(\"chapter2data/surfenergytens.csv\", index_col=0, dtype=float)\n",
    "surfdatatens"
   ]
  },
  {
   "cell_type": "code",
   "execution_count": 17,
   "id": "resident-scholarship",
   "metadata": {},
   "outputs": [
    {
     "data": {
      "text/html": [
       "<div>\n",
       "<style scoped>\n",
       "    .dataframe tbody tr th:only-of-type {\n",
       "        vertical-align: middle;\n",
       "    }\n",
       "\n",
       "    .dataframe tbody tr th {\n",
       "        vertical-align: top;\n",
       "    }\n",
       "\n",
       "    .dataframe thead th {\n",
       "        text-align: right;\n",
       "    }\n",
       "</style>\n",
       "<table border=\"1\" class=\"dataframe\">\n",
       "  <thead>\n",
       "    <tr style=\"text-align: right;\">\n",
       "      <th></th>\n",
       "      <th>0.005</th>\n",
       "      <th>0.015</th>\n",
       "      <th>0.025</th>\n",
       "      <th>0.035</th>\n",
       "      <th>0.045</th>\n",
       "      <th>0.055</th>\n",
       "      <th>0.065</th>\n",
       "      <th>0.075</th>\n",
       "      <th>0.085</th>\n",
       "      <th>0.095</th>\n",
       "      <th>...</th>\n",
       "      <th>1.305</th>\n",
       "      <th>1.315</th>\n",
       "      <th>1.325</th>\n",
       "      <th>1.335</th>\n",
       "      <th>1.345</th>\n",
       "      <th>1.355</th>\n",
       "      <th>1.365</th>\n",
       "      <th>1.375</th>\n",
       "      <th>1.385</th>\n",
       "      <th>1.395</th>\n",
       "    </tr>\n",
       "  </thead>\n",
       "  <tbody>\n",
       "    <tr>\n",
       "      <th>-0.99</th>\n",
       "      <td>54.369246</td>\n",
       "      <td>54.368804</td>\n",
       "      <td>54.367920</td>\n",
       "      <td>54.366597</td>\n",
       "      <td>54.364834</td>\n",
       "      <td>54.362635</td>\n",
       "      <td>54.360003</td>\n",
       "      <td>54.356939</td>\n",
       "      <td>54.353450</td>\n",
       "      <td>54.349538</td>\n",
       "      <td>...</td>\n",
       "      <td>54.809848</td>\n",
       "      <td>54.860993</td>\n",
       "      <td>54.913517</td>\n",
       "      <td>54.967432</td>\n",
       "      <td>55.022751</td>\n",
       "      <td>55.079487</td>\n",
       "      <td>55.137651</td>\n",
       "      <td>55.197257</td>\n",
       "      <td>55.258316</td>\n",
       "      <td>55.320841</td>\n",
       "    </tr>\n",
       "    <tr>\n",
       "      <th>-0.98</th>\n",
       "      <td>38.414209</td>\n",
       "      <td>38.413795</td>\n",
       "      <td>38.412969</td>\n",
       "      <td>38.411730</td>\n",
       "      <td>38.410081</td>\n",
       "      <td>38.408024</td>\n",
       "      <td>38.405562</td>\n",
       "      <td>38.402697</td>\n",
       "      <td>38.399434</td>\n",
       "      <td>38.395777</td>\n",
       "      <td>...</td>\n",
       "      <td>39.033917</td>\n",
       "      <td>39.087269</td>\n",
       "      <td>39.142005</td>\n",
       "      <td>39.198139</td>\n",
       "      <td>39.255683</td>\n",
       "      <td>39.314649</td>\n",
       "      <td>39.375050</td>\n",
       "      <td>39.436897</td>\n",
       "      <td>39.500204</td>\n",
       "      <td>39.564982</td>\n",
       "    </tr>\n",
       "    <tr>\n",
       "      <th>-0.97</th>\n",
       "      <td>31.340836</td>\n",
       "      <td>31.340444</td>\n",
       "      <td>31.339661</td>\n",
       "      <td>31.338486</td>\n",
       "      <td>31.336923</td>\n",
       "      <td>31.334974</td>\n",
       "      <td>31.332640</td>\n",
       "      <td>31.329925</td>\n",
       "      <td>31.326833</td>\n",
       "      <td>31.323368</td>\n",
       "      <td>...</td>\n",
       "      <td>32.083382</td>\n",
       "      <td>32.138113</td>\n",
       "      <td>32.194230</td>\n",
       "      <td>32.251745</td>\n",
       "      <td>32.310671</td>\n",
       "      <td>32.371020</td>\n",
       "      <td>32.432804</td>\n",
       "      <td>32.496035</td>\n",
       "      <td>32.560726</td>\n",
       "      <td>32.626888</td>\n",
       "    </tr>\n",
       "    <tr>\n",
       "      <th>-0.96</th>\n",
       "      <td>27.121673</td>\n",
       "      <td>27.121298</td>\n",
       "      <td>27.120550</td>\n",
       "      <td>27.119430</td>\n",
       "      <td>27.117938</td>\n",
       "      <td>27.116078</td>\n",
       "      <td>27.113851</td>\n",
       "      <td>27.111261</td>\n",
       "      <td>27.108311</td>\n",
       "      <td>27.105006</td>\n",
       "      <td>...</td>\n",
       "      <td>27.958503</td>\n",
       "      <td>28.014200</td>\n",
       "      <td>28.071281</td>\n",
       "      <td>28.129759</td>\n",
       "      <td>28.189646</td>\n",
       "      <td>28.250954</td>\n",
       "      <td>28.313695</td>\n",
       "      <td>28.377881</td>\n",
       "      <td>28.443525</td>\n",
       "      <td>28.510638</td>\n",
       "    </tr>\n",
       "    <tr>\n",
       "      <th>-0.95</th>\n",
       "      <td>24.240852</td>\n",
       "      <td>24.240493</td>\n",
       "      <td>24.239776</td>\n",
       "      <td>24.238703</td>\n",
       "      <td>24.237273</td>\n",
       "      <td>24.235491</td>\n",
       "      <td>24.233357</td>\n",
       "      <td>24.230875</td>\n",
       "      <td>24.228050</td>\n",
       "      <td>24.224883</td>\n",
       "      <td>...</td>\n",
       "      <td>25.153982</td>\n",
       "      <td>25.210386</td>\n",
       "      <td>25.268172</td>\n",
       "      <td>25.327352</td>\n",
       "      <td>25.387936</td>\n",
       "      <td>25.449939</td>\n",
       "      <td>25.513371</td>\n",
       "      <td>25.578246</td>\n",
       "      <td>25.644574</td>\n",
       "      <td>25.712368</td>\n",
       "    </tr>\n",
       "    <tr>\n",
       "      <th>...</th>\n",
       "      <td>...</td>\n",
       "      <td>...</td>\n",
       "      <td>...</td>\n",
       "      <td>...</td>\n",
       "      <td>...</td>\n",
       "      <td>...</td>\n",
       "      <td>...</td>\n",
       "      <td>...</td>\n",
       "      <td>...</td>\n",
       "      <td>...</td>\n",
       "      <td>...</td>\n",
       "      <td>...</td>\n",
       "      <td>...</td>\n",
       "      <td>...</td>\n",
       "      <td>...</td>\n",
       "      <td>...</td>\n",
       "      <td>...</td>\n",
       "      <td>...</td>\n",
       "      <td>...</td>\n",
       "      <td>...</td>\n",
       "      <td>...</td>\n",
       "    </tr>\n",
       "    <tr>\n",
       "      <th>0.95</th>\n",
       "      <td>24.240852</td>\n",
       "      <td>24.240493</td>\n",
       "      <td>24.239776</td>\n",
       "      <td>24.238703</td>\n",
       "      <td>24.237273</td>\n",
       "      <td>24.235491</td>\n",
       "      <td>24.233357</td>\n",
       "      <td>24.230875</td>\n",
       "      <td>24.228050</td>\n",
       "      <td>24.224883</td>\n",
       "      <td>...</td>\n",
       "      <td>25.153982</td>\n",
       "      <td>25.210386</td>\n",
       "      <td>25.268172</td>\n",
       "      <td>25.327352</td>\n",
       "      <td>25.387936</td>\n",
       "      <td>25.449939</td>\n",
       "      <td>25.513371</td>\n",
       "      <td>25.578246</td>\n",
       "      <td>25.644574</td>\n",
       "      <td>25.712368</td>\n",
       "    </tr>\n",
       "    <tr>\n",
       "      <th>0.96</th>\n",
       "      <td>27.121673</td>\n",
       "      <td>27.121298</td>\n",
       "      <td>27.120550</td>\n",
       "      <td>27.119430</td>\n",
       "      <td>27.117938</td>\n",
       "      <td>27.116078</td>\n",
       "      <td>27.113851</td>\n",
       "      <td>27.111261</td>\n",
       "      <td>27.108311</td>\n",
       "      <td>27.105006</td>\n",
       "      <td>...</td>\n",
       "      <td>27.958503</td>\n",
       "      <td>28.014200</td>\n",
       "      <td>28.071281</td>\n",
       "      <td>28.129759</td>\n",
       "      <td>28.189646</td>\n",
       "      <td>28.250954</td>\n",
       "      <td>28.313695</td>\n",
       "      <td>28.377881</td>\n",
       "      <td>28.443525</td>\n",
       "      <td>28.510638</td>\n",
       "    </tr>\n",
       "    <tr>\n",
       "      <th>0.97</th>\n",
       "      <td>31.340836</td>\n",
       "      <td>31.340444</td>\n",
       "      <td>31.339661</td>\n",
       "      <td>31.338486</td>\n",
       "      <td>31.336923</td>\n",
       "      <td>31.334974</td>\n",
       "      <td>31.332640</td>\n",
       "      <td>31.329925</td>\n",
       "      <td>31.326833</td>\n",
       "      <td>31.323368</td>\n",
       "      <td>...</td>\n",
       "      <td>32.083382</td>\n",
       "      <td>32.138113</td>\n",
       "      <td>32.194230</td>\n",
       "      <td>32.251745</td>\n",
       "      <td>32.310671</td>\n",
       "      <td>32.371020</td>\n",
       "      <td>32.432804</td>\n",
       "      <td>32.496035</td>\n",
       "      <td>32.560726</td>\n",
       "      <td>32.626888</td>\n",
       "    </tr>\n",
       "    <tr>\n",
       "      <th>0.98</th>\n",
       "      <td>38.414209</td>\n",
       "      <td>38.413795</td>\n",
       "      <td>38.412969</td>\n",
       "      <td>38.411730</td>\n",
       "      <td>38.410081</td>\n",
       "      <td>38.408024</td>\n",
       "      <td>38.405562</td>\n",
       "      <td>38.402697</td>\n",
       "      <td>38.399434</td>\n",
       "      <td>38.395777</td>\n",
       "      <td>...</td>\n",
       "      <td>39.033917</td>\n",
       "      <td>39.087269</td>\n",
       "      <td>39.142005</td>\n",
       "      <td>39.198139</td>\n",
       "      <td>39.255683</td>\n",
       "      <td>39.314649</td>\n",
       "      <td>39.375050</td>\n",
       "      <td>39.436897</td>\n",
       "      <td>39.500204</td>\n",
       "      <td>39.564982</td>\n",
       "    </tr>\n",
       "    <tr>\n",
       "      <th>0.99</th>\n",
       "      <td>54.369246</td>\n",
       "      <td>54.368804</td>\n",
       "      <td>54.367920</td>\n",
       "      <td>54.366597</td>\n",
       "      <td>54.364834</td>\n",
       "      <td>54.362635</td>\n",
       "      <td>54.360003</td>\n",
       "      <td>54.356939</td>\n",
       "      <td>54.353450</td>\n",
       "      <td>54.349538</td>\n",
       "      <td>...</td>\n",
       "      <td>54.809848</td>\n",
       "      <td>54.860993</td>\n",
       "      <td>54.913517</td>\n",
       "      <td>54.967432</td>\n",
       "      <td>55.022751</td>\n",
       "      <td>55.079487</td>\n",
       "      <td>55.137651</td>\n",
       "      <td>55.197257</td>\n",
       "      <td>55.258316</td>\n",
       "      <td>55.320841</td>\n",
       "    </tr>\n",
       "  </tbody>\n",
       "</table>\n",
       "<p>199 rows × 140 columns</p>\n",
       "</div>"
      ],
      "text/plain": [
       "           0.005      0.015      0.025      0.035      0.045      0.055  \\\n",
       "-0.99  54.369246  54.368804  54.367920  54.366597  54.364834  54.362635   \n",
       "-0.98  38.414209  38.413795  38.412969  38.411730  38.410081  38.408024   \n",
       "-0.97  31.340836  31.340444  31.339661  31.338486  31.336923  31.334974   \n",
       "-0.96  27.121673  27.121298  27.120550  27.119430  27.117938  27.116078   \n",
       "-0.95  24.240852  24.240493  24.239776  24.238703  24.237273  24.235491   \n",
       "...          ...        ...        ...        ...        ...        ...   \n",
       " 0.95  24.240852  24.240493  24.239776  24.238703  24.237273  24.235491   \n",
       " 0.96  27.121673  27.121298  27.120550  27.119430  27.117938  27.116078   \n",
       " 0.97  31.340836  31.340444  31.339661  31.338486  31.336923  31.334974   \n",
       " 0.98  38.414209  38.413795  38.412969  38.411730  38.410081  38.408024   \n",
       " 0.99  54.369246  54.368804  54.367920  54.366597  54.364834  54.362635   \n",
       "\n",
       "           0.065      0.075      0.085      0.095  ...      1.305      1.315  \\\n",
       "-0.99  54.360003  54.356939  54.353450  54.349538  ...  54.809848  54.860993   \n",
       "-0.98  38.405562  38.402697  38.399434  38.395777  ...  39.033917  39.087269   \n",
       "-0.97  31.332640  31.329925  31.326833  31.323368  ...  32.083382  32.138113   \n",
       "-0.96  27.113851  27.111261  27.108311  27.105006  ...  27.958503  28.014200   \n",
       "-0.95  24.233357  24.230875  24.228050  24.224883  ...  25.153982  25.210386   \n",
       "...          ...        ...        ...        ...  ...        ...        ...   \n",
       " 0.95  24.233357  24.230875  24.228050  24.224883  ...  25.153982  25.210386   \n",
       " 0.96  27.113851  27.111261  27.108311  27.105006  ...  27.958503  28.014200   \n",
       " 0.97  31.332640  31.329925  31.326833  31.323368  ...  32.083382  32.138113   \n",
       " 0.98  38.405562  38.402697  38.399434  38.395777  ...  39.033917  39.087269   \n",
       " 0.99  54.360003  54.356939  54.353450  54.349538  ...  54.809848  54.860993   \n",
       "\n",
       "           1.325      1.335      1.345      1.355      1.365      1.375  \\\n",
       "-0.99  54.913517  54.967432  55.022751  55.079487  55.137651  55.197257   \n",
       "-0.98  39.142005  39.198139  39.255683  39.314649  39.375050  39.436897   \n",
       "-0.97  32.194230  32.251745  32.310671  32.371020  32.432804  32.496035   \n",
       "-0.96  28.071281  28.129759  28.189646  28.250954  28.313695  28.377881   \n",
       "-0.95  25.268172  25.327352  25.387936  25.449939  25.513371  25.578246   \n",
       "...          ...        ...        ...        ...        ...        ...   \n",
       " 0.95  25.268172  25.327352  25.387936  25.449939  25.513371  25.578246   \n",
       " 0.96  28.071281  28.129759  28.189646  28.250954  28.313695  28.377881   \n",
       " 0.97  32.194230  32.251745  32.310671  32.371020  32.432804  32.496035   \n",
       " 0.98  39.142005  39.198139  39.255683  39.314649  39.375050  39.436897   \n",
       " 0.99  54.913517  54.967432  55.022751  55.079487  55.137651  55.197257   \n",
       "\n",
       "           1.385      1.395  \n",
       "-0.99  55.258316  55.320841  \n",
       "-0.98  39.500204  39.564982  \n",
       "-0.97  32.560726  32.626888  \n",
       "-0.96  28.443525  28.510638  \n",
       "-0.95  25.644574  25.712368  \n",
       "...          ...        ...  \n",
       " 0.95  25.644574  25.712368  \n",
       " 0.96  28.443525  28.510638  \n",
       " 0.97  32.560726  32.626888  \n",
       " 0.98  39.500204  39.564982  \n",
       " 0.99  55.258316  55.320841  \n",
       "\n",
       "[199 rows x 140 columns]"
      ]
     },
     "execution_count": 17,
     "metadata": {},
     "output_type": "execute_result"
    }
   ],
   "source": [
    "curvdatatens=pd.read_csv(\"chapter2data/curvenergytens.csv\", index_col=0, dtype=float)\n",
    "curvdatatens"
   ]
  },
  {
   "cell_type": "code",
   "execution_count": 38,
   "id": "c92b9fb4",
   "metadata": {},
   "outputs": [
    {
     "data": {
      "text/plain": [
       "0.0    31.415927\n",
       "0.1    31.340798\n",
       "0.2    31.118597\n",
       "0.3    30.758515\n",
       "0.4    30.274725\n",
       "0.5    29.684931\n",
       "0.6    29.008736\n",
       "0.7    28.266115\n",
       "0.8    27.476153\n",
       "0.9    26.656162\n",
       "Name: 0.2, dtype: float64"
      ]
     },
     "execution_count": 38,
     "metadata": {},
     "output_type": "execute_result"
    }
   ],
   "source": [
    "surfdatatens.loc[:,'0.2']"
   ]
  },
  {
   "cell_type": "code",
   "execution_count": 48,
   "id": "naked-walter",
   "metadata": {},
   "outputs": [
    {
     "data": {
      "image/png": "[encoded data removed]",
      "text/plain": [
       "<Figure size 504x576 with 2 Axes>"
      ]
     },
     "metadata": {
      "needs_background": "light"
     },
     "output_type": "display_data"
    }
   ],
   "source": [
    "minimum_as = dict([])\n",
    "minimum_Es = dict([])\n",
    "gammas=np.arange(0,1,.01)\n",
    "kappa=0\n",
    "for gamma in gammas:\n",
    "    minimum_as_row = dict([])\n",
    "    minimum_Es_row = dict([])\n",
    "    for k in ks:\n",
    "        energies = [(field_energies[k][a].loc[c, alpha]+gamma*2*math.pi*surfdatatens.loc[a/10,str(k/10)]+\n",
    "                     kappa*math.pi*curvdatatens.loc[a/10,str(round(k/10+.005,5))]\n",
    "                     ,a) for a in paths[k]]\n",
    "        energy, a = min(energies)\n",
    "        minimum_as_row[k]= a\n",
    "        minimum_Es_row[k] = energy\n",
    "    minimum_as[gamma]=minimum_as_row\n",
    "    minimum_Es[gamma] = minimum_Es_row\n",
    "minimum_as = pd.DataFrame(minimum_as)\n",
    "minimum_Es = pd.DataFrame(minimum_Es)\n",
    "sb.heatmap(minimum_as)\n",
    "plt.gca().invert_yaxis()"
   ]
  },
  {
   "cell_type": "code",
   "execution_count": 52,
   "id": "protecting-juvenile",
   "metadata": {},
   "outputs": [
    {
     "data": {
      "image/png": "[encoded data removed]",
      "text/plain": [
       "<Figure size 504x576 with 2 Axes>"
      ]
     },
     "metadata": {
      "needs_background": "light"
     },
     "output_type": "display_data"
    }
   ],
   "source": [
    "minimum_as = dict([])\n",
    "minimum_Es = dict([])\n",
    "gamma=100\n",
    "kappas=np.arange(0,70, 1)\n",
    "alpha=-4\n",
    "c=0.5\n",
    "for kappa in kappas:\n",
    "    minimum_as_row = dict([])\n",
    "    minimum_Es_row = dict([])\n",
    "    for k in ks:\n",
    "        energies = [(field_energies[k][a].loc[c, alpha]+gamma*2*math.pi*surfdatatens.loc[a/10,str(k/10)]\n",
    "                     +kappa*math.pi*curvdatatens.loc[a/10,str(round(k/10+.005,5))]\n",
    "                     ,a) for a in paths[k]]\n",
    "        energy, a = min(energies)\n",
    "        minimum_as_row[k]= a\n",
    "        minimum_Es_row[k] = energy\n",
    "    minimum_as[kappa]=minimum_as_row\n",
    "    minimum_Es[kappa] = minimum_Es_row\n",
    "minimum_as = pd.DataFrame(minimum_as)\n",
    "minimum_Es = pd.DataFrame(minimum_Es)\n",
    "sb.heatmap(minimum_as, cmap='bone', vmin=0, vmax=9)\n",
    "plt.gca().invert_yaxis()"
   ]
  },
  {
   "cell_type": "code",
   "execution_count": 53,
   "id": "norwegian-journey",
   "metadata": {},
   "outputs": [
    {
     "data": {
      "image/png": "[encoded data removed]",
      "text/plain": [
       "<Figure size 504x576 with 2 Axes>"
      ]
     },
     "metadata": {
      "needs_background": "light"
     },
     "output_type": "display_data"
    }
   ],
   "source": [
    "minimum_as = dict([])\n",
    "minimum_Es = dict([])\n",
    "gamma=100\n",
    "kappa=10\n",
    "alpha=-3\n",
    "cs=np.arange(.5,9.5, 1)\n",
    "for c in cs:\n",
    "    minimum_as_row = dict([])\n",
    "    minimum_Es_row = dict([])\n",
    "    for k in ks:\n",
    "        energies = [(field_energies[k][a].loc[c, alpha]+gamma*2*math.pi*surfdatatens.loc[a/10,str(k/10)]\n",
    "                     +kappa*math.pi*curvdatatens.loc[a/10,str(round(k/10+.005,5))]\n",
    "                     ,a) for a in paths[k]]\n",
    "        energy, a = min(energies)\n",
    "        minimum_as_row[k]= a\n",
    "        minimum_Es_row[k] = energy\n",
    "    minimum_as[c]=minimum_as_row\n",
    "    minimum_Es[c] = minimum_Es_row\n",
    "minimum_as = pd.DataFrame(minimum_as)\n",
    "minimum_Es = pd.DataFrame(minimum_Es)\n",
    "sb.heatmap(minimum_as, cmap='bone',vmin=0, vmax=1)\n",
    "plt.gca().invert_yaxis()"
   ]
  },
  {
   "cell_type": "code",
   "execution_count": 54,
   "id": "immune-peter",
   "metadata": {},
   "outputs": [
    {
     "data": {
      "image/png": "[encoded data removed]",
      "text/plain": [
       "<Figure size 504x576 with 2 Axes>"
      ]
     },
     "metadata": {
      "needs_background": "light"
     },
     "output_type": "display_data"
    }
   ],
   "source": [
    "minimum_as = dict([])\n",
    "minimum_Es = dict([])\n",
    "gamma=100\n",
    "kappa=0\n",
    "exts=np.arange(0, 3, .01)\n",
    "for ext in exts:\n",
    "    minimum_as_row = dict([])\n",
    "    minimum_Es_row = dict([])\n",
    "    for k in ks:\n",
    "        energies = [(field_energies[k][a].loc[c, alpha]+gamma*2*math.pi*surfdatatens.loc[a/10,str(k/10)]\n",
    "                     +kappa*math.pi*curvdatatens.loc[a/10,str(round(k/10+.005,5))]\n",
    "                     ,a) for a in paths[k]]\n",
    "        energy, a = min(energies)\n",
    "        minimum_as_row[k]= a\n",
    "        minimum_Es_row[k] = energy\n",
    "    minimum_as[ext]=minimum_as_row\n",
    "    minimum_Es[ext] = minimum_Es_row\n",
    "minimum_as = pd.DataFrame(minimum_as)\n",
    "minimum_Es = pd.DataFrame(minimum_Es)\n",
    "sb.heatmap(minimum_as, vmax=10, vmin=0, cmap='bone')\n",
    "plt.gca().invert_yaxis()"
   ]
  },
  {
   "cell_type": "markdown",
   "id": "falling-cartoon",
   "metadata": {},
   "source": [
    "alpha=-5, c=.5: We see that field strength >1/100th gamma stabilizes, field strengt <1/600th gamma has no effect.  "
   ]
  },
  {
   "cell_type": "markdown",
   "id": "median-kitty",
   "metadata": {},
   "source": [
    "Tried other things: with alpha=-1, c=.5 field has no effect from gamma=100.  At alpha=-5, c=8.5, the upper limit is similar form as before, but field also stabilizes on smaller k (longer objects).  These are of the type that only go between N=0 and no field.  This regime seems to start at c=3.5, though more adjustments are possible on longer (smaller k) cylinders."
   ]
  },
  {
   "cell_type": "markdown",
   "id": "objective-scout",
   "metadata": {},
   "source": [
    "smaller k - more extreme surface area difference - would think surface tension part more likely to win.  But unexpectedly differences in field energy are also more extreme on longer cylinders, where choosing between N=0 and isotropic.  At high c, field can't adjust profile either."
   ]
  },
  {
   "cell_type": "markdown",
   "id": "transsexual-smoke",
   "metadata": {},
   "source": [
    "At high c, high alpha (5.5, -5) cylinder is stabilized almost everywhere - maybe the two regions hae joined"
   ]
  },
  {
   "cell_type": "markdown",
   "id": "thorough-dispatch",
   "metadata": {},
   "source": [
    "Now using alpha=-3, c=5.5 to see interesting effect"
   ]
  },
  {
   "cell_type": "markdown",
   "id": "atmospheric-partnership",
   "metadata": {},
   "source": [
    "Only amplitudes 0 or .9 are seen so far."
   ]
  },
  {
   "cell_type": "code",
   "execution_count": 55,
   "id": "disturbed-twenty",
   "metadata": {},
   "outputs": [
    {
     "data": {
      "image/png": "[encoded data removed]",
      "text/plain": [
       "<Figure size 504x576 with 2 Axes>"
      ]
     },
     "metadata": {
      "needs_background": "light"
     },
     "output_type": "display_data"
    }
   ],
   "source": [
    "sb.heatmap(minimum_Es)\n",
    "plt.gca().invert_yaxis()"
   ]
  },
  {
   "cell_type": "markdown",
   "id": "inside-madness",
   "metadata": {},
   "source": [
    "Additionally look at all the minimum configurations and label them - in this case just the a=.9 s from different ksets."
   ]
  },
  {
   "cell_type": "code",
   "execution_count": 56,
   "id": "acquired-stick",
   "metadata": {},
   "outputs": [],
   "source": [
    "def kcrit_old(gamma, kappa, alpha, c, n, u=1):\n",
    "    #g is gamma/kappa ratio\n",
    "    g=gamma/kappa\n",
    "    # then c is similarly c/kappa ,  i.e. kappa set to 1\n",
    "    discriminant1 =-23 + 12 * g +4 * g**2\n",
    "    if alpha<0:\n",
    "        discriminant1 -=32*(abs(alpha)*c*n**2/(2*u))/gamma #c is in units of gamma\n",
    "        #alpha, u are techincally also in units gamma but their scaling cancels\n",
    "    #(else if alpha>=0 add 0 for field)\n",
    "    #print(discriminant1)\n",
    "    if discriminant1<0:\n",
    "        return None\n",
    "    else:\n",
    "        discriminant2 = 1-2*g+  math.sqrt(discriminant1)\n",
    "        #print(discriminant2)\n",
    "        if discriminant2 <0:\n",
    "            return None\n",
    "        else:\n",
    "            return .5*math.sqrt(discriminant2)"
   ]
  },
  {
   "cell_type": "code",
   "execution_count": 61,
   "id": "insured-residence",
   "metadata": {},
   "outputs": [],
   "source": [
    "def kcrit(g,h):\n",
    "    g+=2*h**2\n",
    "    #discriminant1_alt =-23 -16*h+ 12* g+64*h**2+ + 32 * g*h+4 * g**2\n",
    "    discriminant1 =8*(2*g-3)+(-1+8*h+2*g)**2\n",
    "    #print(discriminant1,discriminant1_alt )\n",
    "    if discriminant1<0:\n",
    "        return np.nan\n",
    "    else:\n",
    "        discriminant2 = 1-2*g-8*h + math.sqrt(discriminant1)\n",
    "        #print(discriminant2, math.sqrt(discriminant1), 1-8*h + math.sqrt(discriminant1), 2*g)\n",
    "        if discriminant2 <0:\n",
    "            return np.nan\n",
    "        else:\n",
    "            return .5*math.sqrt(discriminant2)"
   ]
  },
  {
   "cell_type": "code",
   "execution_count": 62,
   "id": "organic-doubt",
   "metadata": {},
   "outputs": [
    {
     "ename": "TypeError",
     "evalue": "kcrit() takes 2 positional arguments but 5 were given",
     "output_type": "error",
     "traceback": [
      "\u001b[0;31m---------------------------------------------------------------------------\u001b[0m",
      "\u001b[0;31mTypeError\u001b[0m                                 Traceback (most recent call last)",
      "\u001b[0;32m/tmp/ipykernel_17032/1167046307.py\u001b[0m in \u001b[0;36m<module>\u001b[0;34m\u001b[0m\n\u001b[0;32m----> 1\u001b[0;31m \u001b[0mprint\u001b[0m\u001b[0;34m(\u001b[0m\u001b[0mkcrit\u001b[0m\u001b[0;34m(\u001b[0m\u001b[0;36m1000000\u001b[0m\u001b[0;34m,\u001b[0m \u001b[0;34m-\u001b[0m\u001b[0;36m1\u001b[0m\u001b[0;34m,\u001b[0m \u001b[0;36m.015\u001b[0m\u001b[0;34m,\u001b[0m \u001b[0;36m6\u001b[0m\u001b[0;34m,\u001b[0m \u001b[0;36m1\u001b[0m\u001b[0;34m)\u001b[0m\u001b[0;34m)\u001b[0m\u001b[0;34m\u001b[0m\u001b[0;34m\u001b[0m\u001b[0m\n\u001b[0m",
      "\u001b[0;31mTypeError\u001b[0m: kcrit() takes 2 positional arguments but 5 were given"
     ]
    }
   ],
   "source": [
    "print(kcrit(1000000, -1, .015, 6, 1))"
   ]
  },
  {
   "cell_type": "code",
   "execution_count": 63,
   "id": "residential-publication",
   "metadata": {},
   "outputs": [
    {
     "ename": "TypeError",
     "evalue": "kcrit() got an unexpected keyword argument 'alpha'",
     "output_type": "error",
     "traceback": [
      "\u001b[0;31m---------------------------------------------------------------------------\u001b[0m",
      "\u001b[0;31mTypeError\u001b[0m                                 Traceback (most recent call last)",
      "\u001b[0;32m/tmp/ipykernel_17032/4131367652.py\u001b[0m in \u001b[0;36m<module>\u001b[0;34m\u001b[0m\n\u001b[1;32m     28\u001b[0m \u001b[0msb\u001b[0m\u001b[0;34m.\u001b[0m\u001b[0mheatmap\u001b[0m\u001b[0;34m(\u001b[0m\u001b[0mminimum_as\u001b[0m\u001b[0;34m,\u001b[0m \u001b[0mcmap\u001b[0m\u001b[0;34m=\u001b[0m\u001b[0;34m'bone'\u001b[0m\u001b[0;34m,\u001b[0m \u001b[0mvmin\u001b[0m\u001b[0;34m=\u001b[0m\u001b[0;36m0\u001b[0m\u001b[0;34m,\u001b[0m \u001b[0mvmax\u001b[0m\u001b[0;34m=\u001b[0m\u001b[0;36m.9\u001b[0m\u001b[0;34m,\u001b[0m\u001b[0mcbar_kws\u001b[0m\u001b[0;34m=\u001b[0m\u001b[0;34m{\u001b[0m\u001b[0;34m'label'\u001b[0m\u001b[0;34m:\u001b[0m \u001b[0;34m'|a|'\u001b[0m\u001b[0;34m}\u001b[0m\u001b[0;34m)\u001b[0m\u001b[0;34m\u001b[0m\u001b[0;34m\u001b[0m\u001b[0m\n\u001b[1;32m     29\u001b[0m \u001b[0;34m\u001b[0m\u001b[0m\n\u001b[0;32m---> 30\u001b[0;31m \u001b[0mkcrits_\u001b[0m \u001b[0;34m=\u001b[0m \u001b[0;34m[\u001b[0m\u001b[0mkcrit\u001b[0m\u001b[0;34m(\u001b[0m\u001b[0mgamma\u001b[0m\u001b[0;34m/\u001b[0m\u001b[0mkappa\u001b[0m\u001b[0;34m,\u001b[0m \u001b[0malpha\u001b[0m\u001b[0;34m=\u001b[0m\u001b[0;36m.01\u001b[0m\u001b[0;34m*\u001b[0m\u001b[0malpha\u001b[0m\u001b[0;34m,\u001b[0m \u001b[0mc\u001b[0m\u001b[0;34m=\u001b[0m\u001b[0mc\u001b[0m\u001b[0;34m,\u001b[0m \u001b[0mn\u001b[0m\u001b[0;34m=\u001b[0m\u001b[0;36m6\u001b[0m\u001b[0;34m)\u001b[0m \u001b[0;32mfor\u001b[0m \u001b[0mkappa\u001b[0m \u001b[0;32min\u001b[0m \u001b[0mkappas\u001b[0m \u001b[0;32mif\u001b[0m \u001b[0mkappa\u001b[0m\u001b[0;34m!=\u001b[0m\u001b[0;36m0\u001b[0m\u001b[0;34m]\u001b[0m\u001b[0;34m\u001b[0m\u001b[0;34m\u001b[0m\u001b[0m\n\u001b[0m\u001b[1;32m     31\u001b[0m plt.plot([kappa*len(minimum_as.columns)/.7 for kappa,kc in zip(kappas, kcrits_) if kc is not None], \n\u001b[1;32m     32\u001b[0m          [(kc-.25)*len(minimum_as.index)/1.0 for kc in kcrits_ if kc is not None], color='red')\n",
      "\u001b[0;32m/tmp/ipykernel_17032/4131367652.py\u001b[0m in \u001b[0;36m<listcomp>\u001b[0;34m(.0)\u001b[0m\n\u001b[1;32m     28\u001b[0m \u001b[0msb\u001b[0m\u001b[0;34m.\u001b[0m\u001b[0mheatmap\u001b[0m\u001b[0;34m(\u001b[0m\u001b[0mminimum_as\u001b[0m\u001b[0;34m,\u001b[0m \u001b[0mcmap\u001b[0m\u001b[0;34m=\u001b[0m\u001b[0;34m'bone'\u001b[0m\u001b[0;34m,\u001b[0m \u001b[0mvmin\u001b[0m\u001b[0;34m=\u001b[0m\u001b[0;36m0\u001b[0m\u001b[0;34m,\u001b[0m \u001b[0mvmax\u001b[0m\u001b[0;34m=\u001b[0m\u001b[0;36m.9\u001b[0m\u001b[0;34m,\u001b[0m\u001b[0mcbar_kws\u001b[0m\u001b[0;34m=\u001b[0m\u001b[0;34m{\u001b[0m\u001b[0;34m'label'\u001b[0m\u001b[0;34m:\u001b[0m \u001b[0;34m'|a|'\u001b[0m\u001b[0;34m}\u001b[0m\u001b[0;34m)\u001b[0m\u001b[0;34m\u001b[0m\u001b[0;34m\u001b[0m\u001b[0m\n\u001b[1;32m     29\u001b[0m \u001b[0;34m\u001b[0m\u001b[0m\n\u001b[0;32m---> 30\u001b[0;31m \u001b[0mkcrits_\u001b[0m \u001b[0;34m=\u001b[0m \u001b[0;34m[\u001b[0m\u001b[0mkcrit\u001b[0m\u001b[0;34m(\u001b[0m\u001b[0mgamma\u001b[0m\u001b[0;34m/\u001b[0m\u001b[0mkappa\u001b[0m\u001b[0;34m,\u001b[0m \u001b[0malpha\u001b[0m\u001b[0;34m=\u001b[0m\u001b[0;36m.01\u001b[0m\u001b[0;34m*\u001b[0m\u001b[0malpha\u001b[0m\u001b[0;34m,\u001b[0m \u001b[0mc\u001b[0m\u001b[0;34m=\u001b[0m\u001b[0mc\u001b[0m\u001b[0;34m,\u001b[0m \u001b[0mn\u001b[0m\u001b[0;34m=\u001b[0m\u001b[0;36m6\u001b[0m\u001b[0;34m)\u001b[0m \u001b[0;32mfor\u001b[0m \u001b[0mkappa\u001b[0m \u001b[0;32min\u001b[0m \u001b[0mkappas\u001b[0m \u001b[0;32mif\u001b[0m \u001b[0mkappa\u001b[0m\u001b[0;34m!=\u001b[0m\u001b[0;36m0\u001b[0m\u001b[0;34m]\u001b[0m\u001b[0;34m\u001b[0m\u001b[0;34m\u001b[0m\u001b[0m\n\u001b[0m\u001b[1;32m     31\u001b[0m plt.plot([kappa*len(minimum_as.columns)/.7 for kappa,kc in zip(kappas, kcrits_) if kc is not None], \n\u001b[1;32m     32\u001b[0m          [(kc-.25)*len(minimum_as.index)/1.0 for kc in kcrits_ if kc is not None], color='red')\n",
      "\u001b[0;31mTypeError\u001b[0m: kcrit() got an unexpected keyword argument 'alpha'"
     ]
    },
    {
     "data": {
      "image/png": "[encoded data removed]",
      "text/plain": [
       "<Figure size 504x576 with 2 Axes>"
      ]
     },
     "metadata": {
      "needs_background": "light"
     },
     "output_type": "display_data"
    }
   ],
   "source": [
    "gs = list(np.arange(1, 100, .01))\n",
    "gs.extend([100,500,1000,10000,100000])\n",
    "\n",
    "minimum_as = dict([])\n",
    "minimum_Es = dict([])\n",
    "gamma=1\n",
    "kappas=np.arange(0,.7, .01)\n",
    "alpha=1\n",
    "c=1.5\n",
    "for kappa in kappas:\n",
    "    minimum_as_row = dict([])\n",
    "    minimum_Es_row = dict([])\n",
    "    for k in range(2,6):\n",
    "        minimum_as_row[k]= np.nan\n",
    "    for k in ks:\n",
    "        energies = [(field_energies[k][a].loc[c, alpha]+gamma*2*math.pi*surfdatatens.loc[a/10,str(k/10)]\n",
    "                     +kappa*math.pi*curvdatatens.loc[a/10,str(round(k/10+.005,5))]\n",
    "                     ,a) for a in paths[k]]\n",
    "        energy, a = min(energies)\n",
    "        minimum_as_row[k]= a\n",
    "        minimum_Es_row[k] = energy\n",
    "    minimum_as[kappa]=minimum_as_row\n",
    "    minimum_Es[kappa] = minimum_Es_row\n",
    "minimum_as = pd.DataFrame(minimum_as)\n",
    "minimum_Es = pd.DataFrame(minimum_Es)\n",
    "minimum_as.index=[x/10 for x in minimum_as.index]\n",
    "minimum_as.columns=[round(x,5) for x in minimum_as.columns]\n",
    "sb.heatmap(minimum_as, cmap='bone', vmin=0, vmax=.9,cbar_kws={'label': '|a|'})\n",
    "\n",
    "kcrits_ = [kcrit(gamma/kappa, alpha=.01*alpha, c=c, n=6) for kappa in kappas if kappa!=0]\n",
    "plt.plot([kappa*len(minimum_as.columns)/.7 for kappa,kc in zip(kappas, kcrits_) if kc is not None], \n",
    "         [(kc-.25)*len(minimum_as.index)/1.0 for kc in kcrits_ if kc is not None], color='red')\n",
    "kcrits_0 = [kcrit(gamma/kappa, alpha=0, c=0, n=0) for kappa in kappas if kappa !=0]\n",
    "#plt.plot([1/g*len(minimum_as.columns)/.7 for g,kc in zip(gs, kcrits_0) if kc is not None], \n",
    "#         [(kc-.25)*len(minimum_as.index)/1.0 for kc in kcrits_0 if kc is not None], color='red', linestyle=\":\")\n",
    "\n",
    "plt.gca().invert_yaxis()\n",
    "#plt.ylabel('k_c')\n",
    "#plt.xlabel('kappa/gamma')\n",
    "#plt.savefig(\"k_kappa_mapline_n6_alpha1_c1p5.png\")"
   ]
  },
  {
   "cell_type": "code",
   "execution_count": 14,
   "id": "younger-notice",
   "metadata": {},
   "outputs": [
    {
     "ename": "TypeError",
     "evalue": "kcrit() missing 1 required positional argument: 'kappa'",
     "output_type": "error",
     "traceback": [
      "\u001b[0;31m---------------------------------------------------------------------------\u001b[0m",
      "\u001b[0;31mTypeError\u001b[0m                                 Traceback (most recent call last)",
      "\u001b[0;32m/tmp/ipykernel_17032/2623022358.py\u001b[0m in \u001b[0;36m<module>\u001b[0;34m\u001b[0m\n\u001b[1;32m      1\u001b[0m \u001b[0;31m#alpha=-4\u001b[0m\u001b[0;34m\u001b[0m\u001b[0;34m\u001b[0m\u001b[0;34m\u001b[0m\u001b[0m\n\u001b[0;32m----> 2\u001b[0;31m \u001b[0mkcrits_\u001b[0m \u001b[0;34m=\u001b[0m \u001b[0;34m[\u001b[0m\u001b[0mkcrit\u001b[0m\u001b[0;34m(\u001b[0m\u001b[0mg\u001b[0m\u001b[0;34m,\u001b[0m \u001b[0malpha\u001b[0m\u001b[0;34m=\u001b[0m\u001b[0;36m.01\u001b[0m\u001b[0;34m*\u001b[0m\u001b[0malpha\u001b[0m\u001b[0;34m,\u001b[0m \u001b[0mc\u001b[0m\u001b[0;34m=\u001b[0m\u001b[0mc\u001b[0m\u001b[0;34m,\u001b[0m \u001b[0mn\u001b[0m\u001b[0;34m=\u001b[0m\u001b[0;36m6\u001b[0m\u001b[0;34m)\u001b[0m \u001b[0;32mfor\u001b[0m \u001b[0mg\u001b[0m \u001b[0;32min\u001b[0m \u001b[0mgs\u001b[0m\u001b[0;34m]\u001b[0m\u001b[0;34m\u001b[0m\u001b[0;34m\u001b[0m\u001b[0m\n\u001b[0m\u001b[1;32m      3\u001b[0m \u001b[0mplt\u001b[0m\u001b[0;34m.\u001b[0m\u001b[0mplot\u001b[0m\u001b[0;34m(\u001b[0m\u001b[0;34m[\u001b[0m\u001b[0;36m1\u001b[0m\u001b[0;34m/\u001b[0m\u001b[0mg\u001b[0m \u001b[0;32mfor\u001b[0m \u001b[0mg\u001b[0m\u001b[0;34m,\u001b[0m\u001b[0mkc\u001b[0m \u001b[0;32min\u001b[0m \u001b[0mzip\u001b[0m\u001b[0;34m(\u001b[0m\u001b[0mgs\u001b[0m\u001b[0;34m,\u001b[0m \u001b[0mkcrits_\u001b[0m\u001b[0;34m)\u001b[0m \u001b[0;32mif\u001b[0m \u001b[0mkc\u001b[0m \u001b[0;32mis\u001b[0m \u001b[0;32mnot\u001b[0m \u001b[0;32mNone\u001b[0m\u001b[0;34m]\u001b[0m\u001b[0;34m,\u001b[0m \u001b[0;34m[\u001b[0m\u001b[0mkc\u001b[0m \u001b[0;32mfor\u001b[0m \u001b[0mkc\u001b[0m \u001b[0;32min\u001b[0m \u001b[0mkcrits_\u001b[0m \u001b[0;32mif\u001b[0m \u001b[0mkc\u001b[0m \u001b[0;32mis\u001b[0m \u001b[0;32mnot\u001b[0m \u001b[0;32mNone\u001b[0m\u001b[0;34m]\u001b[0m\u001b[0;34m)\u001b[0m\u001b[0;34m\u001b[0m\u001b[0;34m\u001b[0m\u001b[0m\n\u001b[1;32m      4\u001b[0m \u001b[0mplt\u001b[0m\u001b[0;34m.\u001b[0m\u001b[0mxlim\u001b[0m\u001b[0;34m(\u001b[0m\u001b[0;34m(\u001b[0m\u001b[0;36m0\u001b[0m\u001b[0;34m,\u001b[0m\u001b[0;36m.7\u001b[0m\u001b[0;34m)\u001b[0m\u001b[0;34m)\u001b[0m\u001b[0;34m\u001b[0m\u001b[0;34m\u001b[0m\u001b[0m\n\u001b[1;32m      5\u001b[0m \u001b[0;31m#plt.savefig(\"k_kappa_line_n6_alpham-4_c1p5.png\")\u001b[0m\u001b[0;34m\u001b[0m\u001b[0;34m\u001b[0m\u001b[0;34m\u001b[0m\u001b[0m\n",
      "\u001b[0;32m/tmp/ipykernel_17032/2623022358.py\u001b[0m in \u001b[0;36m<listcomp>\u001b[0;34m(.0)\u001b[0m\n\u001b[1;32m      1\u001b[0m \u001b[0;31m#alpha=-4\u001b[0m\u001b[0;34m\u001b[0m\u001b[0;34m\u001b[0m\u001b[0;34m\u001b[0m\u001b[0m\n\u001b[0;32m----> 2\u001b[0;31m \u001b[0mkcrits_\u001b[0m \u001b[0;34m=\u001b[0m \u001b[0;34m[\u001b[0m\u001b[0mkcrit\u001b[0m\u001b[0;34m(\u001b[0m\u001b[0mg\u001b[0m\u001b[0;34m,\u001b[0m \u001b[0malpha\u001b[0m\u001b[0;34m=\u001b[0m\u001b[0;36m.01\u001b[0m\u001b[0;34m*\u001b[0m\u001b[0malpha\u001b[0m\u001b[0;34m,\u001b[0m \u001b[0mc\u001b[0m\u001b[0;34m=\u001b[0m\u001b[0mc\u001b[0m\u001b[0;34m,\u001b[0m \u001b[0mn\u001b[0m\u001b[0;34m=\u001b[0m\u001b[0;36m6\u001b[0m\u001b[0;34m)\u001b[0m \u001b[0;32mfor\u001b[0m \u001b[0mg\u001b[0m \u001b[0;32min\u001b[0m \u001b[0mgs\u001b[0m\u001b[0;34m]\u001b[0m\u001b[0;34m\u001b[0m\u001b[0;34m\u001b[0m\u001b[0m\n\u001b[0m\u001b[1;32m      3\u001b[0m \u001b[0mplt\u001b[0m\u001b[0;34m.\u001b[0m\u001b[0mplot\u001b[0m\u001b[0;34m(\u001b[0m\u001b[0;34m[\u001b[0m\u001b[0;36m1\u001b[0m\u001b[0;34m/\u001b[0m\u001b[0mg\u001b[0m \u001b[0;32mfor\u001b[0m \u001b[0mg\u001b[0m\u001b[0;34m,\u001b[0m\u001b[0mkc\u001b[0m \u001b[0;32min\u001b[0m \u001b[0mzip\u001b[0m\u001b[0;34m(\u001b[0m\u001b[0mgs\u001b[0m\u001b[0;34m,\u001b[0m \u001b[0mkcrits_\u001b[0m\u001b[0;34m)\u001b[0m \u001b[0;32mif\u001b[0m \u001b[0mkc\u001b[0m \u001b[0;32mis\u001b[0m \u001b[0;32mnot\u001b[0m \u001b[0;32mNone\u001b[0m\u001b[0;34m]\u001b[0m\u001b[0;34m,\u001b[0m \u001b[0;34m[\u001b[0m\u001b[0mkc\u001b[0m \u001b[0;32mfor\u001b[0m \u001b[0mkc\u001b[0m \u001b[0;32min\u001b[0m \u001b[0mkcrits_\u001b[0m \u001b[0;32mif\u001b[0m \u001b[0mkc\u001b[0m \u001b[0;32mis\u001b[0m \u001b[0;32mnot\u001b[0m \u001b[0;32mNone\u001b[0m\u001b[0;34m]\u001b[0m\u001b[0;34m)\u001b[0m\u001b[0;34m\u001b[0m\u001b[0;34m\u001b[0m\u001b[0m\n\u001b[1;32m      4\u001b[0m \u001b[0mplt\u001b[0m\u001b[0;34m.\u001b[0m\u001b[0mxlim\u001b[0m\u001b[0;34m(\u001b[0m\u001b[0;34m(\u001b[0m\u001b[0;36m0\u001b[0m\u001b[0;34m,\u001b[0m\u001b[0;36m.7\u001b[0m\u001b[0;34m)\u001b[0m\u001b[0;34m)\u001b[0m\u001b[0;34m\u001b[0m\u001b[0;34m\u001b[0m\u001b[0m\n\u001b[1;32m      5\u001b[0m \u001b[0;31m#plt.savefig(\"k_kappa_line_n6_alpham-4_c1p5.png\")\u001b[0m\u001b[0;34m\u001b[0m\u001b[0;34m\u001b[0m\u001b[0;34m\u001b[0m\u001b[0m\n",
      "\u001b[0;31mTypeError\u001b[0m: kcrit() missing 1 required positional argument: 'kappa'"
     ]
    }
   ],
   "source": [
    "#alpha=-4\n",
    "kcrits_ = [kcrit(g, alpha=.01*alpha, c=c, n=6) for g in gs]\n",
    "plt.plot([1/g for g,kc in zip(gs, kcrits_) if kc is not None], [kc for kc in kcrits_ if kc is not None])\n",
    "plt.xlim((0,.7))\n",
    "#plt.savefig(\"k_kappa_line_n6_alpham-4_c1p5.png\")"
   ]
  },
  {
   "cell_type": "code",
   "execution_count": null,
   "id": "incoming-compatibility",
   "metadata": {},
   "outputs": [],
   "source": [
    "plt.plot([kappa for kappa,kc in zip(kappas, kcrits_) if kc is not None], \n",
    "         [kc for kc in kcrits_ if kc is not None], color='red')\n",
    "plt.plot([kappa for kappa,kc in zip(kappas, kcrits_0) if kc is not None], \n",
    "         [kc for kc in kcrits_0 if kc is not None], color='red')\n",
    "plt.ylim((.15, 1.25))\n",
    "plt.xlim((-0.005, .705))"
   ]
  },
  {
   "cell_type": "code",
   "execution_count": null,
   "id": "increased-minority",
   "metadata": {
    "scrolled": true
   },
   "outputs": [],
   "source": [
    "minimum_as = dict([])\n",
    "minimum_Es = dict([])\n",
    "gamma=1\n",
    "kappas=np.arange(0,.7, .01)\n",
    "kappas[0]+=.000001\n",
    "alpha=1\n",
    "c=1.5\n",
    "field_factor=0.0\n",
    "for kappa in kappas:\n",
    "    minimum_as_row = dict([])\n",
    "    minimum_Es_row = dict([])\n",
    "    for k in range(2,6):\n",
    "        minimum_as_row[k]= np.nan\n",
    "    for k in ks:\n",
    "        energies = [(field_factor*field_energies[k][a].loc[c, alpha]+gamma*2*math.pi*surfdatatens.loc[a/10,str(k/10)]+kappa*math.pi*curvdatatens.loc[a/10,str(k/10)]\n",
    "                     ,a) for a in paths[k]]\n",
    "        energy, a = min(energies)\n",
    "        minimum_as_row[k]= a/10\n",
    "        minimum_Es_row[k] = energy*(k/10)\n",
    "    minimum_as[kappa]=minimum_as_row\n",
    "    minimum_Es[kappa] = minimum_Es_row\n",
    "minimum_as = pd.DataFrame(minimum_as)\n",
    "minimum_Es = pd.DataFrame(minimum_Es)\n",
    "minimum_as.index=[x/10 for x in minimum_as.index]\n",
    "minimum_as.columns=[round(x,5) for x in minimum_as.columns]\n",
    "sb.heatmap(minimum_as, cmap='bone', vmin=0, vmax=.9, cbar_kws={'label': r'shape amplitude $a$'},\n",
    "          xticklabels=10)\n",
    "kcrits_ = [kcrit(gamma,kappa, alpha=field_factor*alpha, c=field_factor*c, n=6, u=field_factor*1) for kappa in kappas if kappa!=0]\n",
    "plt.plot([(kappa*len(minimum_as.columns)+.005)/.705 for kappa,kc in zip(kappas, kcrits_) if kc is not None], \n",
    "         [(kc-.2+.05)*(len(minimum_as.index))/1.1 for kc in kcrits_ if kc is not None], color='red')\n",
    "kcrits_0 = [kcrit(gamma,kappa, alpha=0, c=0, n=0) for kappa in kappas if kappa !=0]\n",
    "plt.plot([(kappa*len(minimum_as.columns)+.005)/.705 for kappa,kc in zip(kappas, kcrits_0) if kc is not None], \n",
    "         [(kc-.2+.05)*(len(minimum_as.index))/1.1 for kc in kcrits_0 if kc is not None], color='red', linestyle=\":\")\n",
    "\n",
    "plt.gca().invert_yaxis()\n",
    "plt.ylabel(r'wavenumber $k$')\n",
    "plt.xlabel(r'bending rigidity $\\kappa/\\gamma$')\n",
    "plt.savefig(\"k_kappa_mapline_nofield.png\",bbox_inches = 'tight')"
   ]
  },
  {
   "cell_type": "code",
   "execution_count": null,
   "id": "usual-channels",
   "metadata": {},
   "outputs": [],
   "source": [
    "paths[6]"
   ]
  },
  {
   "cell_type": "code",
   "execution_count": null,
   "id": "distinguished-journalist",
   "metadata": {},
   "outputs": [],
   "source": []
  },
  {
   "cell_type": "code",
   "execution_count": 19,
   "id": "senior-height",
   "metadata": {},
   "outputs": [],
   "source": [
    "stability_field_m4=pd.read_csv(\"pinch_off_stability_field_m4.csv\", index_col=1)"
   ]
  },
  {
   "cell_type": "code",
   "execution_count": null,
   "id": "essential-entry",
   "metadata": {},
   "outputs": [],
   "source": []
  }
 ],
 "metadata": {
  "kernelspec": {
   "display_name": "Python 3 (ipykernel)",
   "language": "python",
   "name": "python3"
  },
  "language_info": {
   "codemirror_mode": {
    "name": "ipython",
    "version": 3
   },
   "file_extension": ".py",
   "mimetype": "text/x-python",
   "name": "python",
   "nbconvert_exporter": "python",
   "pygments_lexer": "ipython3",
   "version": "3.8.5"
  }
 },
 "nbformat": 4,
 "nbformat_minor": 5
}
