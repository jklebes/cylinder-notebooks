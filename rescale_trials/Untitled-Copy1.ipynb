{
 "cells": [
  {
   "cell_type": "code",
   "execution_count": 1,
   "id": "registered-blackjack",
   "metadata": {},
   "outputs": [],
   "source": [
    "import math\n",
    "import numpy as np\n",
    "import copy\n",
    "import matplotlib.pyplot as plt\n",
    "%matplotlib inline\n",
    "\n",
    "import rescale_points as rescale"
   ]
  },
  {
   "cell_type": "code",
   "execution_count": 2,
   "id": "duplicate-guess",
   "metadata": {},
   "outputs": [],
   "source": [
    "alpha=1\n",
    "C=1 \n",
    "n=1 \n",
    "cutoff_wavelength = .2*2*math.pi/100\n",
    "lx = 2*math.pi/100\n",
    "ly = lx\n",
    "field='real'\n",
    "Q=(int(lx/cutoff_wavelength),int(ly/cutoff_wavelength))"
   ]
  },
  {
   "cell_type": "code",
   "execution_count": 3,
   "id": "architectural-diabetes",
   "metadata": {},
   "outputs": [],
   "source": [
    "\n",
    "B_matrix_4 = rescale.get_VWmatrix(field='real', maxwavevector=Q, alpha=alpha, n=n, C=C, lx=lx, ly=ly, lambda_is=range(4))[-4:, -4:]\n"
   ]
  },
  {
   "cell_type": "code",
   "execution_count": 4,
   "id": "filled-saturn",
   "metadata": {},
   "outputs": [],
   "source": [
    "B_matrix_5 = rescale.get_VWmatrix(field='real', maxwavevector=Q, alpha=alpha, n=n, C=C, lx=lx, ly=ly, lambda_is=range(5))[-5:, -5:]\n"
   ]
  },
  {
   "cell_type": "code",
   "execution_count": 5,
   "id": "grave-failing",
   "metadata": {},
   "outputs": [
    {
     "data": {
      "text/plain": [
       "array([[ 1.58888519, -0.58801324, -0.33673459, -0.58801324],\n",
       "       [-0.58801324,  1.58888519, -0.58801324, -0.33673459],\n",
       "       [-0.33673459, -0.58801324,  1.58888519, -0.58801324],\n",
       "       [-0.58801324, -0.33673459, -0.58801324,  1.58888519]])"
      ]
     },
     "execution_count": 5,
     "metadata": {},
     "output_type": "execute_result"
    }
   ],
   "source": [
    "B_matrix_4.real"
   ]
  },
  {
   "cell_type": "code",
   "execution_count": 6,
   "id": "loose-clause",
   "metadata": {},
   "outputs": [
    {
     "data": {
      "text/plain": [
       "array([[ 1.84445818, -0.33244025, -0.0811616 , -0.33244025, -1.05088743],\n",
       "       [-0.33244025,  1.84445818, -0.33244025, -0.0811616 , -1.05088743],\n",
       "       [-0.0811616 , -0.33244025,  1.84445818, -0.33244025, -1.05088743],\n",
       "       [-0.33244025, -0.0811616 , -0.33244025,  1.84445818, -1.05088743],\n",
       "       [-1.05088743, -1.05088743, -1.05088743, -1.05088743,  4.32113104]])"
      ]
     },
     "execution_count": 6,
     "metadata": {},
     "output_type": "execute_result"
    }
   ],
   "source": [
    "B_matrix_5.real"
   ]
  },
  {
   "cell_type": "code",
   "execution_count": 7,
   "id": "foreign-banking",
   "metadata": {},
   "outputs": [
    {
     "data": {
      "text/plain": [
       "array([[3.64672501, 3.18115256, 3.12741169, 3.18115256],\n",
       "       [3.18115256, 3.64672501, 3.18115256, 3.12741169],\n",
       "       [3.12741169, 3.18115256, 3.64672501, 3.18115256],\n",
       "       [3.18115256, 3.12741169, 3.18115256, 3.64672501]])"
      ]
     },
     "execution_count": 7,
     "metadata": {},
     "output_type": "execute_result"
    }
   ],
   "source": [
    "cov_matrix_4 = np.linalg.inv(B_matrix_4)\n",
    "cov_matrix_4.real"
   ]
  },
  {
   "cell_type": "markdown",
   "id": "novel-closer",
   "metadata": {},
   "source": [
    "cov_matrix_5 = np.linalg.inv(B_matrix_5)\n",
    "cov_matrix_5.real"
   ]
  },
  {
   "cell_type": "code",
   "execution_count": 8,
   "id": "computational-metropolitan",
   "metadata": {},
   "outputs": [
    {
     "data": {
      "text/plain": [
       "array([[3.64672501, 3.18115256, 3.12741169, 3.18115256, 3.19474728],\n",
       "       [3.18115256, 3.64672501, 3.18115256, 3.12741169, 3.19474728],\n",
       "       [3.12741169, 3.18115256, 3.64672501, 3.18115256, 3.19474728],\n",
       "       [3.18115256, 3.12741169, 3.18115256, 3.64672501, 3.19474728],\n",
       "       [3.19474728, 3.19474728, 3.19474728, 3.19474728, 3.33923663]])"
      ]
     },
     "execution_count": 8,
     "metadata": {},
     "output_type": "execute_result"
    }
   ],
   "source": [
    "cov_matrix_5 = np.linalg.inv(B_matrix_5) \n",
    "cov_matrix_5.real"
   ]
  },
  {
   "cell_type": "markdown",
   "id": "extra-rolling",
   "metadata": {},
   "source": [
    "verify positive-definiteness of covariance matrices\n"
   ]
  },
  {
   "cell_type": "code",
   "execution_count": 9,
   "id": "broad-cliff",
   "metadata": {},
   "outputs": [
    {
     "name": "stdout",
     "output_type": "stream",
     "text": [
      "cov-4 is positive definite: True\n",
      "cov-5 is positive definite: True\n"
     ]
    }
   ],
   "source": [
    "print(\"cov-4 is positive definite:\", np.all(np.linalg.eigvals(cov_matrix_4) > 0))\n",
    "print(\"cov-5 is positive definite:\", np.all(np.linalg.eigvals(cov_matrix_5) > 0))"
   ]
  },
  {
   "cell_type": "markdown",
   "id": "figured-acrobat",
   "metadata": {},
   "source": [
    "The covariances matrices show the same covariances between \\mu_i no matter how manny additional \\mu_i are \\`measured\\'.  As expected the physics/statistics of the object is the same no matter what we \\`measure\\'.  \n",
    "\n",
    "The covariance matrix shows the total covariance, i.e. everything about how the field behaves at that point, whether the correlations are direct or mediated by (and correlated with) the field at other locations.\n",
    "\n",
    "On the other hand the precision matrix (inverse of covariance matrix) shows something related to partial covariances - only those covariances betwee two points not \\`explained by\\' other, indirect effects."
   ]
  },
  {
   "cell_type": "markdown",
   "id": "characteristic-barbados",
   "metadata": {},
   "source": [
    "### Correlation matrix, precision matrix; partial convariances, conditional covariances in detail\n",
    "- precision matrix  = inverse correlation matrix\n",
    "- For N-dimensional Gaussian distributions, partial covariances = conditional covariances\n"
   ]
  },
  {
   "cell_type": "markdown",
   "id": "digital-pioneer",
   "metadata": {},
   "source": [
    "A partial covariance matrix between the first 4 boundary points extracted from the 5-element version"
   ]
  },
  {
   "cell_type": "code",
   "execution_count": 10,
   "id": "simplified-thanksgiving",
   "metadata": {},
   "outputs": [
    {
     "name": "stdout",
     "output_type": "stream",
     "text": [
      "C_(j|5) =  [[0.59021501 0.12464256 0.07090169 0.12464256]\n",
      " [0.12464256 0.59021501 0.12464256 0.07090169]\n",
      " [0.07090169 0.12464256 0.59021501 0.12464256]\n",
      " [0.12464256 0.07090169 0.12464256 0.59021501]]\n"
     ]
    }
   ],
   "source": [
    "cov_partial = np.zeros((4,4), dtype=complex)\n",
    "fifth_entry= [[cov_matrix_5[-1,-1]]]\n",
    "#print(cov_matrix_5[-1:,:-1].real, np.linalg.inv(fifth_entry).real, cov_matrix_5[:-1,-1:].real)\n",
    "cov_partial = cov_matrix_5[:-1,:-1] - np.matmul( cov_matrix_5[:-1,-1:], np.matmul(\n",
    "                   np.linalg.inv(fifth_entry), cov_matrix_5[-1:,:-1] ))\n",
    "print(\"C_(j|5) = \",cov_partial.real)    "
   ]
  },
  {
   "cell_type": "markdown",
   "id": "dried-center",
   "metadata": {},
   "source": [
    "this is not equal to C^4_j. "
   ]
  },
  {
   "cell_type": "code",
   "execution_count": 11,
   "id": "armed-probe",
   "metadata": {},
   "outputs": [
    {
     "name": "stdout",
     "output_type": "stream",
     "text": [
      "C^4=\n",
      " [[3.64672501 3.18115256 3.12741169 3.18115256]\n",
      " [3.18115256 3.64672501 3.18115256 3.12741169]\n",
      " [3.12741169 3.18115256 3.64672501 3.18115256]\n",
      " [3.18115256 3.12741169 3.18115256 3.64672501]]\n"
     ]
    }
   ],
   "source": [
    "print(\"C^4=\\n\" , cov_matrix_4.real)"
   ]
  },
  {
   "cell_type": "markdown",
   "id": "urban-parade",
   "metadata": {},
   "source": [
    " C^4_j is the covariances between the 4 boundary points when everything is alloweed to flucutate. C_{j|5} is the covariances between the 4 boundary points when the mean (5th condition) is constrained to a constant.\n",
    " \n",
    " We see that when the mean is held constant, values at the boundary conitions fluctuate less widely and are slightly anticorrelated with each other."
   ]
  },
  {
   "cell_type": "code",
   "execution_count": 12,
   "id": "facial-atlas",
   "metadata": {},
   "outputs": [
    {
     "name": "stdout",
     "output_type": "stream",
     "text": [
      "inv of partial covariances extracted from 5 constrain covs\n",
      "[[ 1.84445818 -0.33244025 -0.0811616  -0.33244025]\n",
      " [-0.33244025  1.84445818 -0.33244025 -0.0811616 ]\n",
      " [-0.0811616  -0.33244025  1.84445818 -0.33244025]\n",
      " [-0.33244025 -0.0811616  -0.33244025  1.84445818]]\n",
      "B matrix measured from 4 points from the start\n",
      "[[ 1.58888519 -0.58801324 -0.33673459 -0.58801324]\n",
      " [-0.58801324  1.58888519 -0.58801324 -0.33673459]\n",
      " [-0.33673459 -0.58801324  1.58888519 -0.58801324]\n",
      " [-0.58801324 -0.33673459 -0.58801324  1.58888519]]\n"
     ]
    }
   ],
   "source": [
    "print(\"inv of partial covariances extracted from 5 constrain covs\", np.linalg.inv(cov_partial).real, sep=\"\\n\")\n",
    "print(\"B matrix measured from 4 points from the start\", B_matrix_4.real, sep=\"\\n\")"
   ]
  },
  {
   "cell_type": "markdown",
   "id": "expanded-conviction",
   "metadata": {},
   "source": [
    "Like B^5, the partial cov matrix does not hvae expected negative entries like B_13.\n",
    "\n",
    "Only B^4 does.\n",
    "\n",
    "1: effects due to mean are excluded, only additional info is shown\n",
    "\n",
    "2: effects via mean are incorporated into correlations"
   ]
  },
  {
   "cell_type": "code",
   "execution_count": 13,
   "id": "friendly-macedonia",
   "metadata": {},
   "outputs": [
    {
     "name": "stdout",
     "output_type": "stream",
     "text": [
      "[[ 1.84445818 -0.33244025 -0.0811616  -0.33244025]\n",
      " [-0.33244025  1.84445818 -0.33244025 -0.0811616 ]\n",
      " [-0.0811616  -0.33244025  1.84445818 -0.33244025]\n",
      " [-0.33244025 -0.0811616  -0.33244025  1.84445818]]\n"
     ]
    }
   ],
   "source": [
    "print(B_matrix_5[:4,:4].real)"
   ]
  },
  {
   "cell_type": "markdown",
   "id": "magnetic-intranet",
   "metadata": {},
   "source": [
    "this does not have the desired properties.  What does this represent?  What do the raw individual elements of a precision matrix mean?"
   ]
  },
  {
   "cell_type": "code",
   "execution_count": 14,
   "id": "accessible-catch",
   "metadata": {},
   "outputs": [
    {
     "name": "stdout",
     "output_type": "stream",
     "text": [
      "C_(55|j) =  [[0.23142089]]\n",
      "inverse  [[4.32113104]]\n"
     ]
    }
   ],
   "source": [
    "\n",
    "#print(cov_matrix_5[-1:,:-1].real, np.linalg.inv(fifth_entry).real, cov_matrix_5[:-1,-1:].real)\n",
    "cov_partial_55 = cov_matrix_5[-1:,-1:] - np.matmul( cov_matrix_5[-1:,:-1], np.matmul(\n",
    "                   np.linalg.inv(cov_matrix_5[:-1,:-1]), cov_matrix_5[:-1,-1:] ))\n",
    "print(\"C_(55|j) = \",cov_partial_55.real)  \n",
    "print(\"inverse \",np.linalg.inv(cov_partial_55).real)  "
   ]
  },
  {
   "cell_type": "markdown",
   "id": "dramatic-possibility",
   "metadata": {},
   "source": [
    "Matching exactly the element of precision matrix.  This leads me to believe that elements of precision matrix mean:  Partial (co-)variance of two or one variable, letting the other three or four be fixed."
   ]
  },
  {
   "cell_type": "markdown",
   "id": "needed-civilian",
   "metadata": {},
   "source": [
    "Why is B_{13} = inv(C_{13|245}) not the element we want?  Because most correlation between 1 and 3 is mediated by what happens at 5.  The rest not \\`explained by\\' this is small, inconsequential, and has the wrong sign. "
   ]
  },
  {
   "cell_type": "markdown",
   "id": "arranged-video",
   "metadata": {},
   "source": [
    "# How to estimate effective potential from covariance matrix"
   ]
  },
  {
   "cell_type": "markdown",
   "id": "protective-complaint",
   "metadata": {},
   "source": [
    "The covariance matrix is the same no matter is it was derived for 4 or 5 boundary conditions.  The 5x5 covariance matrix contains the most complete and universal information, so we take this as our starting point."
   ]
  },
  {
   "cell_type": "markdown",
   "id": "thousand-geography",
   "metadata": {},
   "source": [
    "B^5_{55} = 13.47 holds the information: the mean on the cell varies little, if all the other points are held at some constant value.  \n",
    "Is this what we want in alpha'?"
   ]
  },
  {
   "cell_type": "markdown",
   "id": "exposed-bullet",
   "metadata": {},
   "source": [
    "C^5_{55} = 3.2 holds the information: when everything fluctuates, the value of the mean varies more and behaves much like the value at each of the five points."
   ]
  },
  {
   "cell_type": "markdown",
   "id": "common-louisville",
   "metadata": {},
   "source": [
    "What is a corresponding precision?  Perhaps it is this value."
   ]
  },
  {
   "cell_type": "code",
   "execution_count": 15,
   "id": "handmade-ghana",
   "metadata": {},
   "outputs": [],
   "source": [
    "lx = 2*math.pi/100\n",
    "ly=lx\n",
    "Q=(int(lx/cutoff_wavelength),int(ly/cutoff_wavelength))\n",
    "B_matrix_1 = rescale.get_VWmatrix(field='real', maxwavevector=Q, alpha=alpha, n=n, C=C, lx=lx, ly=ly, lambda_is=[4])[-1:, -1:]\n"
   ]
  },
  {
   "cell_type": "code",
   "execution_count": 16,
   "id": "preceding-delight",
   "metadata": {},
   "outputs": [
    {
     "data": {
      "text/plain": [
       "array([[0.29946964+0.j]])"
      ]
     },
     "execution_count": 16,
     "metadata": {},
     "output_type": "execute_result"
    }
   ],
   "source": [
    "B_matrix_1"
   ]
  },
  {
   "cell_type": "code",
   "execution_count": 17,
   "id": "adopted-denial",
   "metadata": {},
   "outputs": [
    {
     "data": {
      "text/plain": [
       "array([[3.33923663+0.j]])"
      ]
     },
     "execution_count": 17,
     "metadata": {},
     "output_type": "execute_result"
    }
   ],
   "source": [
    "np.linalg.inv(B_matrix_1)"
   ]
  },
  {
   "cell_type": "markdown",
   "id": "gothic-jersey",
   "metadata": {},
   "source": [
    "It is this value, or could hvae just 1/C_55"
   ]
  },
  {
   "cell_type": "markdown",
   "id": "vocal-techno",
   "metadata": {},
   "source": [
    "Another thing: does F_0 \\sim ln sqrt 1/det(A) depend on how many boundary points are \\`measured\\'?"
   ]
  },
  {
   "cell_type": "markdown",
   "id": "automotive-guest",
   "metadata": {},
   "source": [
    "The mean varies a lot (precision .33) when everything else is not held constant.  Is this the information we want in alpha' ?"
   ]
  },
  {
   "cell_type": "markdown",
   "id": "advanced-slide",
   "metadata": {},
   "source": [
    "Big difference here between precision matrix element and 1/covaraiance matrix element."
   ]
  },
  {
   "cell_type": "markdown",
   "id": "announced-oxygen",
   "metadata": {},
   "source": [
    "We want the property of C_55 that precision scales with area: fluctuations in the mean of a large number of oscillators are smaller with increasing number of oscillators.  Do B_{jj|5} (diagonal of inverse conditional covariance matrix) and B_jj (diagonal of precision matrix derived from only 4 points) have this property?  Does the much smaller precision 1/C_55 , precision of mean when everything fluctuates, have this property?"
   ]
  },
  {
   "cell_type": "markdown",
   "id": "collect-physiology",
   "metadata": {},
   "source": [
    "Retrieve a few B^5, B^4.\n"
   ]
  },
  {
   "cell_type": "code",
   "execution_count": 18,
   "id": "possible-sixth",
   "metadata": {},
   "outputs": [],
   "source": [
    "lxs = [x*2*math.pi/100 for x in [1,2,2.5,3,3.2,3.5,3.7,4,4.2,4.5,5,6]]\n",
    "B_matrices_4 = []\n",
    "B_matrices_5 = []"
   ]
  },
  {
   "cell_type": "code",
   "execution_count": 19,
   "id": "maritime-richardson",
   "metadata": {},
   "outputs": [
    {
     "name": "stdout",
     "output_type": "stream",
     "text": [
      "(5, 5)\n",
      "(10, 10)\n",
      "(12, 12)\n",
      "(14, 14)\n",
      "(16, 16)\n",
      "(17, 17)\n",
      "(18, 18)\n",
      "(20, 20)\n",
      "(21, 21)\n",
      "(22, 22)\n",
      "(25, 25)\n",
      "(29, 29)\n"
     ]
    }
   ],
   "source": [
    "for lx in lxs:\n",
    "    ly = lx\n",
    "    Q=(int(lx/cutoff_wavelength),int(ly/cutoff_wavelength))\n",
    "    print(Q)\n",
    "    #B_matrix_4 = rescale.get_VWmatrix(field='real', maxwavevector=Q, alpha=alpha, n=n, C=C, lx=lx, ly=ly, lambda_is=range(4))[-4:, -4:]\n",
    "    #B_matrices_4.append(B_matrix_4)\n",
    "    B_matrix_5 = rescale.get_VWmatrix(field='real', maxwavevector=Q, alpha=alpha, n=n, C=C, lx=lx, ly=ly, lambda_is=range(5))[-5:, -5:]\n",
    "    B_matrices_5.append(B_matrix_5)"
   ]
  },
  {
   "cell_type": "code",
   "execution_count": 20,
   "id": "identical-beatles",
   "metadata": {},
   "outputs": [],
   "source": [
    "cov_matrices_4=[]\n",
    "cov_matrices_5=[]\n",
    "for m in B_matrices_4:\n",
    "    cov_matrices_4.append(np.linalg.inv(m))\n",
    "for m in B_matrices_5:\n",
    "    cov_matrices_5.append(np.linalg.inv(m))\n",
    "cov_matrices_cond_on_5=[]\n",
    "prec_matrices_cond_on_5=[]\n",
    "for B,C_ in zip(B_matrices_5, cov_matrices_5):\n",
    "    fifth_entry= [[C_[-1,-1]]]\n",
    "    cov_partial = C_[:-1,:-1] - np.matmul( C_[:-1,-1:], np.matmul(\n",
    "                   np.linalg.inv(fifth_entry), C_[-1:,:-1] ))\n",
    "    cov_matrices_cond_on_5.append(cov_partial)\n",
    "    prec_matrices_cond_on_5.append(np.linalg.inv(cov_partial))"
   ]
  },
  {
   "cell_type": "code",
   "execution_count": 21,
   "id": "pacific-lawrence",
   "metadata": {},
   "outputs": [
    {
     "data": {
      "text/plain": [
       "[array([[ 1.84445818, -0.33244025, -0.0811616 , -0.33244025, -1.05088743],\n",
       "        [-0.33244025,  1.84445818, -0.33244025, -0.0811616 , -1.05088743],\n",
       "        [-0.0811616 , -0.33244025,  1.84445818, -0.33244025, -1.05088743],\n",
       "        [-0.33244025, -0.0811616 , -0.33244025,  1.84445818, -1.05088743],\n",
       "        [-1.05088743, -1.05088743, -1.05088743, -1.05088743,  4.32113104]]),\n",
       " array([[ 1.48934323, -0.24972676, -0.09928484, -0.24958459, -0.70793342],\n",
       "        [-0.24941742,  1.48942845, -0.24949966, -0.09947002, -0.70820478],\n",
       "        [-0.09957921, -0.24962821,  1.48944912, -0.24972915, -0.70771596],\n",
       "        [-0.24934965, -0.09934183, -0.24968469,  1.48938168, -0.70818111],\n",
       "        [-0.70804739, -0.70790916, -0.70805801, -0.70779423,  3.25859052]]),\n",
       " array([[ 1.44359216, -0.23134001, -0.09181966, -0.22283267, -0.62327881],\n",
       "        [-0.2247485 ,  1.44745587, -0.22485581, -0.09404364, -0.63077954],\n",
       "        [-0.09147489, -0.22298559,  1.44427082, -0.23117875, -0.62529186],\n",
       "        [-0.22447614, -0.09352384, -0.2248165 ,  1.44758559, -0.63134554],\n",
       "        [-0.62818667, -0.62675941, -0.6282499 , -0.62662238,  3.14039925]]),\n",
       " array([[ 1.41744473, -0.19496   , -0.07630506, -0.20731349, -0.5698922 ],\n",
       "        [-0.20482486,  1.4300893 , -0.20378035, -0.08730623, -0.56239038],\n",
       "        [-0.07642982, -0.20629794,  1.42062362, -0.19670132, -0.56927964],\n",
       "        [-0.20216208, -0.08854518, -0.20492591,  1.43145012, -0.5625989 ],\n",
       "        [-0.56195007, -0.56655119, -0.56238155, -0.56719174,  3.12165843]]),\n",
       " array([[ 1.40169144, -0.18520451, -0.07700641, -0.19147111, -0.53653527],\n",
       "        [-0.19233927,  1.40395772, -0.19410159, -0.07492468, -0.53080127],\n",
       "        [-0.07776919, -0.1955947 ,  1.40382914, -0.19065958, -0.52580156],\n",
       "        [-0.19048465, -0.08370853, -0.19266119,  1.40881584, -0.52904942],\n",
       "        [-0.53087699, -0.52929602, -0.53209338, -0.53331563,  3.07142573]]),\n",
       " array([[ 1.40655213, -0.18014524, -0.0749889 , -0.17837292, -0.49974794],\n",
       "        [-0.18141889,  1.40292762, -0.17778998, -0.07569282, -0.49179401],\n",
       "        [-0.07295776, -0.1745243 ,  1.40190148, -0.18204526, -0.4977807 ],\n",
       "        [-0.18037803, -0.07760478, -0.17791055,  1.40331752, -0.49164237],\n",
       "        [-0.49572569, -0.49596802, -0.49567006, -0.49237511,  3.06284524]]),\n",
       " array([[ 1.39590565, -0.16904485, -0.06780117, -0.16794681, -0.47892045],\n",
       "        [-0.16638115,  1.39800067, -0.17104773, -0.07549262, -0.4676228 ],\n",
       "        [-0.07681449, -0.17050031,  1.39992908, -0.16894803, -0.46754901],\n",
       "        [-0.17588303, -0.06856762, -0.17161238,  1.40727574, -0.48224284],\n",
       "        [-0.46603242, -0.47008888, -0.47608047, -0.47373797,  3.06265313]]),\n",
       " array([[ 1.37889887, -0.15488481, -0.06133839, -0.1522482 , -0.43195475],\n",
       "        [-0.15503692,  1.38616429, -0.15583441, -0.06523168, -0.43482534],\n",
       "        [-0.06635078, -0.1554294 ,  1.39040479, -0.1561212 , -0.44510099],\n",
       "        [-0.15001157, -0.06527071, -0.15831951,  1.38289095, -0.43061227],\n",
       "        [-0.43689862, -0.43484312, -0.4348464 , -0.43199001,  3.03981831]]),\n",
       " array([[ 1.38204367, -0.14706087, -0.06162503, -0.14686013, -0.41281679],\n",
       "        [-0.14621636,  1.38501178, -0.1479715 , -0.06180085, -0.41417882],\n",
       "        [-0.06445537, -0.14574571,  1.38506077, -0.14600181, -0.41280472],\n",
       "        [-0.14813072, -0.06021721, -0.14810643,  1.38330624, -0.41427523],\n",
       "        [-0.40830081, -0.42060889, -0.41249507, -0.41310563,  3.05092273]]),\n",
       " array([[ 1.38736971, -0.13584081, -0.05431361, -0.13937157, -0.38506378],\n",
       "        [-0.13898328,  1.38872738, -0.13912473, -0.05646199, -0.38231917],\n",
       "        [-0.05203221, -0.13725771,  1.38755995, -0.13638294, -0.38911765],\n",
       "        [-0.13963801, -0.05541407, -0.13556756,  1.3864452 , -0.38339618],\n",
       "        [-0.38292001, -0.38111918, -0.38818239, -0.38464275,  3.06176427]]),\n",
       " array([[ 1.44366057, -0.27299217, -0.06598   , -0.21287281, -0.23846006],\n",
       "        [-0.12925581,  1.41408203, -0.11472083, -0.01950019, -0.35711834],\n",
       "        [-0.07037004, -0.06621703,  1.39052937, -0.09279145, -0.37074208],\n",
       "        [-0.15572946,  0.09082622, -0.10676146,  1.48899198, -0.42622781],\n",
       "        [-0.32136257, -0.4423051 , -0.34007869, -0.43892384,  3.13387913]]),\n",
       " array([[ 1.3959237 , -0.0900027 , -0.03299877, -0.0911936 , -0.25818142],\n",
       "        [-0.08835342,  1.39391994, -0.08810917, -0.03103354, -0.2661643 ],\n",
       "        [-0.03203683, -0.09065575,  1.39632651, -0.08945981, -0.25873566],\n",
       "        [-0.0908067 , -0.03197597, -0.09080285,  1.39646311, -0.26305629],\n",
       "        [-0.26572847, -0.25952182, -0.26463562, -0.2645514 ,  3.12722965]])]"
      ]
     },
     "execution_count": 21,
     "metadata": {},
     "output_type": "execute_result"
    }
   ],
   "source": [
    "[x.real for x in B_matrices_5]"
   ]
  },
  {
   "cell_type": "markdown",
   "id": "bored-murder",
   "metadata": {},
   "source": [
    "We would really like to use the information B_55, this is the only one where precision (narrowness) in the mean scales with area as expected."
   ]
  },
  {
   "cell_type": "markdown",
   "id": "nuclear-accountability",
   "metadata": {},
   "source": [
    "We also need the information in B_5j (negative values -> correlations between different positions, leads to expected sign of gradient term), whether directly or indirectly as in B^4_ij. "
   ]
  },
  {
   "cell_type": "markdown",
   "id": "extra-ministry",
   "metadata": {},
   "source": [
    "I want to just take B^5 and mach it to an effective free energy with assymetric backwards derivatives (whihc is in fact how the lattice simulation is done at the moment)."
   ]
  },
  {
   "cell_type": "markdown",
   "id": "unlikely-progressive",
   "metadata": {},
   "source": [
    "The only alternative that also contains the information from B^5_55 and B^5_{5j} is to take alpha' mainly from B^5_55 (the area scaling signal is lost boundary point precisions of precision matrix conditioned on 5, in diagonal of B^4).\n",
    "\n",
    "And take gradient information from B^4, which includes the effect mediated via fluctuating mean value.  Direct B^5_{5j} info would be either discarded or added into magnitude term as a correction.\n",
    "\n",
    "This alternative is more complicated to interpret the validity of."
   ]
  },
  {
   "cell_type": "markdown",
   "id": "comparable-asthma",
   "metadata": {},
   "source": [
    "Direct equality Z=... * e^{-muBmu} = ... * e^{-beta H(mu)} is more exactly preserved by including as many large terms as possible from B in H."
   ]
  },
  {
   "cell_type": "markdown",
   "id": "pleasant-ecology",
   "metadata": {},
   "source": [
    "The 'just use B^4', 'estimate magnitude as average of four boundary points' idea: this doesn't include the information that fluctuations in mean are narrower when it's a mean of a bigger area - but we need the field to act this way so that value in a big cell acts like mean of value in several smaller cells.  Not like value at a point.   Why? ?? \n",
    "\n",
    "Metropolis decisions are made based on Hamiltonian total (not density) in a cell.  Total energy (difference) in a cell as estimated from an indicative value can't be obtained from a point.  If we take this point to indicate that the value on the cell is uniformly that value, then the uniform field on the cell will fluctuate a lot regardless of cell size.  Not realistic.\n"
   ]
  },
  {
   "cell_type": "code",
   "execution_count": 22,
   "id": "incorrect-tutorial",
   "metadata": {},
   "outputs": [
    {
     "data": {
      "text/plain": [
       "[array([[ 1.58888519, -0.58801324, -0.33673459, -0.58801324],\n",
       "        [-0.58801324,  1.58888519, -0.58801324, -0.33673459],\n",
       "        [-0.33673459, -0.58801324,  1.58888519, -0.58801324],\n",
       "        [-0.58801324, -0.33673459, -0.58801324,  1.58888519]]),\n",
       " array([[ 1.33581881, -0.40347052, -0.25284119, -0.40405185],\n",
       "        [-0.40402153,  1.33516591, -0.40337248, -0.2521118 ],\n",
       "        [-0.25269202, -0.40393254,  1.33574535, -0.40364226],\n",
       "        [-0.40362011, -0.25246179, -0.40387322,  1.33551119]]),\n",
       " array([[ 1.31868918, -0.35163219, -0.2194749 , -0.34586097],\n",
       "        [-0.32589616,  1.31833198, -0.37945731, -0.21205361],\n",
       "        [-0.23042548, -0.34452187,  1.33128777, -0.35558763],\n",
       "        [-0.36844196, -0.22058369, -0.32763707,  1.31263455]]),\n",
       " array([[ 1.32550733, -0.30497096, -0.1896052 , -0.30323744],\n",
       "        [-0.30344011,  1.32485731, -0.30588881, -0.18655042],\n",
       "        [-0.18958746, -0.30339351,  1.32583129, -0.3049702 ],\n",
       "        [-0.30571331, -0.18665208, -0.30327078,  1.32468751]]),\n",
       " array([[ 1.31675912, -0.28444582, -0.17469614, -0.28194358],\n",
       "        [-0.28479283,  1.31642853, -0.28170434, -0.17367517],\n",
       "        [-0.17607699, -0.28071475,  1.3151287 , -0.28378876],\n",
       "        [-0.28048601, -0.17574048, -0.28581193,  1.31870818]]),\n",
       " array([[ 1.32138862, -0.25695637, -0.15505275, -0.25991551],\n",
       "        [-0.2574811 ,  1.32165089, -0.25917839, -0.15543466],\n",
       "        [-0.15497282, -0.25962112,  1.31950679, -0.25480527],\n",
       "        [-0.25945517, -0.15527774, -0.25758986,  1.32284786]]),\n",
       " array([[ 1.32112642, -0.24014648, -0.14498326, -0.24378495],\n",
       "        [-0.23871812,  1.32268604, -0.23794965, -0.14323816],\n",
       "        [-0.14238768, -0.24122121,  1.32545537, -0.24280067],\n",
       "        [-0.24073982, -0.14394151, -0.24191705,  1.32616939]]),\n",
       " array([[ 1.32491725, -0.20986983, -0.12984554, -0.22436716],\n",
       "        [-0.21955647,  1.32778425, -0.22014111, -0.12765083],\n",
       "        [-0.11628765, -0.23022146,  1.32400326, -0.218955  ],\n",
       "        [-0.2145876 , -0.13828189, -0.214771  ,  1.32962422]]),\n",
       " array([[ 1.32727454, -0.20471996, -0.11681397, -0.20482183],\n",
       "        [-0.20383535,  1.32951885, -0.2035977 , -0.1174147 ],\n",
       "        [-0.11717567, -0.20378378,  1.3295249 , -0.20401347],\n",
       "        [-0.2037082 , -0.11781603, -0.20500112,  1.32878844]]),\n",
       " array([[ 1.34101483, -0.18320213, -0.10399921, -0.18776385],\n",
       "        [-0.18503387,  1.33740397, -0.18574901, -0.10246945],\n",
       "        [-0.10244125, -0.18418278,  1.33738891, -0.18491161],\n",
       "        [-0.18718012, -0.10689349, -0.18539353,  1.34355252]]),\n",
       " array([[ 1.34422764, -0.15479183, -0.0848515 , -0.15581486],\n",
       "        [-0.15442147,  1.34470951, -0.15249596, -0.08482665],\n",
       "        [-0.0819006 , -0.15806481,  1.3451037 , -0.1549957 ],\n",
       "        [-0.15420403, -0.08459474, -0.15347944,  1.34604902]]),\n",
       " array([[ 1.37375321, -0.10987048, -0.05453844, -0.1152964 ],\n",
       "        [-0.10891865,  1.37171768, -0.11115953, -0.05475885],\n",
       "        [-0.05252728, -0.11367146,  1.37448373, -0.11005672],\n",
       "        [-0.10953133, -0.05406593, -0.11137522,  1.37163089]])]"
      ]
     },
     "execution_count": 22,
     "metadata": {},
     "output_type": "execute_result"
    }
   ],
   "source": [
    "[x.real for x in B_matrices_4]"
   ]
  },
  {
   "cell_type": "code",
   "execution_count": 29,
   "id": "hourly-influence",
   "metadata": {},
   "outputs": [
    {
     "data": {
      "image/png": "[encoded data removed]",
      "text/plain": [
       "<Figure size 432x288 with 1 Axes>"
      ]
     },
     "metadata": {
      "needs_background": "light"
     },
     "output_type": "display_data"
    }
   ],
   "source": [
    "plt.plot(lxs, [x[0,0].real for x in B_matrices_5])\n",
    "plt.show()"
   ]
  },
  {
   "cell_type": "code",
   "execution_count": 60,
   "id": "bearing-oxygen",
   "metadata": {},
   "outputs": [
    {
     "data": {
      "image/png": "[encoded data removed]",
      "text/plain": [
       "<Figure size 432x288 with 1 Axes>"
      ]
     },
     "metadata": {
      "needs_background": "light"
     },
     "output_type": "display_data"
    }
   ],
   "source": [
    "plt.plot(lxs, [x[0,4].real for x in B_matrices_5])\n",
    "plt.plot([l for l in lxs], [-.005/l**2 for l in lxs])\n",
    "plt.show()"
   ]
  },
  {
   "cell_type": "code",
   "execution_count": 28,
   "id": "future-satisfaction",
   "metadata": {},
   "outputs": [
    {
     "data": {
      "image/png": "[encoded data removed]",
      "text/plain": [
       "<Figure size 432x288 with 1 Axes>"
      ]
     },
     "metadata": {
      "needs_background": "light"
     },
     "output_type": "display_data"
    }
   ],
   "source": [
    "plt.plot(lxs, [x[-1,-1].real for x in B_matrices_5])\n",
    "plt.ylabel(\"B_55 central point\")\n",
    "plt.xlabel('l')\n",
    "plt.show()"
   ]
  },
  {
   "cell_type": "code",
   "execution_count": 70,
   "id": "identified-pharmacy",
   "metadata": {},
   "outputs": [],
   "source": [
    "alpha=1\n",
    "C=1\n",
    "B_matrices_5_C0=[]"
   ]
  },
  {
   "cell_type": "code",
   "execution_count": 71,
   "id": "sharp-stake",
   "metadata": {},
   "outputs": [
    {
     "name": "stdout",
     "output_type": "stream",
     "text": [
      "(5, 5)\n",
      "(10, 10)\n",
      "(12, 12)\n",
      "(14, 14)\n",
      "(16, 16)\n",
      "(17, 17)\n",
      "(18, 18)\n",
      "(20, 20)\n",
      "(21, 21)\n",
      "(22, 22)\n",
      "(25, 25)\n",
      "(29, 29)\n"
     ]
    }
   ],
   "source": [
    "for lx in lxs:\n",
    "    ly = lx\n",
    "    Q=(int(lx/cutoff_wavelength),int(ly/cutoff_wavelength))\n",
    "    print(Q)\n",
    "    B_matrix_5_C0 = rescale.get_VWmatrix(field='real', maxwavevector=Q, alpha=alpha, n=n, C=C, lx=lx, ly=ly, lambda_is=range(5))[-5:, -5:]\n",
    "    B_matrices_5_C0.append(B_matrix_5_C0)"
   ]
  },
  {
   "cell_type": "code",
   "execution_count": 79,
   "id": "interior-beginning",
   "metadata": {},
   "outputs": [
    {
     "data": {
      "image/png": "[encoded data removed]",
      "text/plain": [
       "<Figure size 432x288 with 1 Axes>"
      ]
     },
     "metadata": {
      "needs_background": "light"
     },
     "output_type": "display_data"
    }
   ],
   "source": [
    "plt.plot([l for l in lxs], [x[0,4].real for (x,l) in zip(B_matrices_5_C0,lxs)])\n",
    "plt.plot([l for l in lxs], [x[0,1].real for (x,l) in zip(B_matrices_5_C0,lxs)])\n",
    "plt.plot([l for l in lxs], [x[0,2].real for (x,l) in zip(B_matrices_5_C0,lxs)])\n",
    "plt.plot([l for l in lxs], [-.009/l**2 for l in lxs])\n",
    "plt.show()"
   ]
  },
  {
   "cell_type": "code",
   "execution_count": 73,
   "id": "precious-mailing",
   "metadata": {},
   "outputs": [
    {
     "data": {
      "image/png": "[encoded data removed]",
      "text/plain": [
       "<Figure size 432x288 with 1 Axes>"
      ]
     },
     "metadata": {
      "needs_background": "light"
     },
     "output_type": "display_data"
    }
   ],
   "source": [
    "plt.plot(lxs, [x[0,0].real for x in B_matrices_5_C0])\n",
    "plt.plot(lxs, [x[4,4].real for x in B_matrices_5_C0])\n",
    "plt.show()"
   ]
  },
  {
   "cell_type": "code",
   "execution_count": 23,
   "id": "naval-winning",
   "metadata": {},
   "outputs": [],
   "source": [
    "alpha=10\n",
    "\n",
    "C=1\n",
    "B_matrices_4_a1Csmall=[]"
   ]
  },
  {
   "cell_type": "code",
   "execution_count": 24,
   "id": "special-fancy",
   "metadata": {},
   "outputs": [
    {
     "name": "stdout",
     "output_type": "stream",
     "text": [
      "(5, 5)\n",
      "(10, 10)\n",
      "(12, 12)\n",
      "(14, 14)\n",
      "(16, 16)\n",
      "(17, 17)\n",
      "(18, 18)\n",
      "(20, 20)\n",
      "(21, 21)\n",
      "(22, 22)\n",
      "(25, 25)\n",
      "(29, 29)\n"
     ]
    },
    {
     "data": {
      "image/png": "[encoded data removed]",
      "text/plain": [
       "<Figure size 432x288 with 1 Axes>"
      ]
     },
     "metadata": {
      "needs_background": "light"
     },
     "output_type": "display_data"
    }
   ],
   "source": [
    "for lx in lxs:\n",
    "    ly = lx\n",
    "    Q=(int(lx/cutoff_wavelength),int(ly/cutoff_wavelength))\n",
    "    print(Q)\n",
    "    B_matrix_4_a1Csmall = rescale.get_VWmatrix(field='real', maxwavevector=Q, alpha=alpha, n=n, C=C, lx=lx, ly=ly, lambda_is=range(1))[-1:, -1:]\n",
    "    B_matrices_4_a1Csmall.append(B_matrix_4_a1Csmall)\n",
    "plt.plot(lxs, [x[0,0].real for x in B_matrices_4_a1Csmall])\n",
    "plt.show()"
   ]
  },
  {
   "cell_type": "code",
   "execution_count": 25,
   "id": "mental-resistance",
   "metadata": {},
   "outputs": [
    {
     "data": {
      "image/png": "[encoded data removed]",
      "text/plain": [
       "<Figure size 432x288 with 1 Axes>"
      ]
     },
     "metadata": {
      "needs_background": "light"
     },
     "output_type": "display_data"
    }
   ],
   "source": [
    "plt.plot(lxs, [x[-1,-1].real for x in B_matrices_4_a1Csmall])\n",
    "plt.show()"
   ]
  },
  {
   "cell_type": "code",
   "execution_count": null,
   "id": "academic-fifty",
   "metadata": {},
   "outputs": [],
   "source": []
  },
  {
   "cell_type": "code",
   "execution_count": null,
   "id": "liked-afternoon",
   "metadata": {},
   "outputs": [],
   "source": []
  },
  {
   "cell_type": "code",
   "execution_count": null,
   "id": "recent-angle",
   "metadata": {},
   "outputs": [],
   "source": []
  }
 ],
 "metadata": {
  "kernelspec": {
   "display_name": "Python 3",
   "language": "python",
   "name": "python3"
  },
  "language_info": {
   "codemirror_mode": {
    "name": "ipython",
    "version": 3
   },
   "file_extension": ".py",
   "mimetype": "text/x-python",
   "name": "python",
   "nbconvert_exporter": "python",
   "pygments_lexer": "ipython3",
   "version": "3.8.5"
  }
 },
 "nbformat": 4,
 "nbformat_minor": 5
}
