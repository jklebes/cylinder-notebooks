{
 "cells": [
  {
   "cell_type": "code",
   "execution_count": 1,
   "id": "mediterranean-junction",
   "metadata": {},
   "outputs": [],
   "source": [
    "l51D = [1/i if i!=0 else 1 for i in range(-2000,2001)]"
   ]
  },
  {
   "cell_type": "code",
   "execution_count": 6,
   "id": "tutorial-reminder",
   "metadata": {},
   "outputs": [],
   "source": [
    "def prod(N):\n",
    "    s=1\n",
    "    for i in range(-N,N+1):\n",
    "        for j in range(-N, N+1):\n",
    "            if i==0:\n",
    "                x=1\n",
    "            else:\n",
    "                x=1/i\n",
    "            if j==0:\n",
    "                y=1\n",
    "            else:\n",
    "                y=1/j\n",
    "            s+=x*y\n",
    "    return s"
   ]
  },
  {
   "cell_type": "code",
   "execution_count": 12,
   "id": "minus-rainbow",
   "metadata": {},
   "outputs": [
    {
     "name": "stdout",
     "output_type": "stream",
     "text": [
      "2.0\n",
      "1.999999999999997\n",
      "1.9999999999999947\n",
      "1.999999999999979\n",
      "1.9999999999999958\n",
      "1.9999999999999933\n",
      "1.999999999999997\n",
      "1.9999999999999938\n",
      "2.000000000000007\n",
      "2.0000000000000004\n",
      "1.9999999999999727\n",
      "1.9999999999999885\n",
      "1.9999999999999858\n",
      "1.9999999999999998\n",
      "1.9999999999999853\n",
      "1.9999999999999734\n",
      "1.999999999999974\n",
      "2.0000000000000298\n",
      "2.0000000000000386\n",
      "1.9999999999999742\n"
     ]
    }
   ],
   "source": [
    "for N in range(1,2000,100):\n",
    "    print(prod(N))"
   ]
  },
  {
   "cell_type": "code",
   "execution_count": null,
   "id": "hearing-highway",
   "metadata": {},
   "outputs": [],
   "source": []
  }
 ],
 "metadata": {
  "kernelspec": {
   "display_name": "Python 3",
   "language": "python",
   "name": "python3"
  },
  "language_info": {
   "codemirror_mode": {
    "name": "ipython",
    "version": 3
   },
   "file_extension": ".py",
   "mimetype": "text/x-python",
   "name": "python",
   "nbconvert_exporter": "python",
   "pygments_lexer": "ipython3",
   "version": "3.8.5"
  }
 },
 "nbformat": 4,
 "nbformat_minor": 5
}
