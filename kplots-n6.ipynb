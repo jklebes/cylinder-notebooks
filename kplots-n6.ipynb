{
 "cells": [
  {
   "cell_type": "code",
   "execution_count": 1,
   "id": "specific-professional",
   "metadata": {},
   "outputs": [],
   "source": [
    "import pandas as pd\n",
    "import seaborn as sb\n",
    "import matplotlib.pyplot as plt\n",
    "import matplotlib.colors\n",
    "import os\n",
    "import numpy as np\n",
    "import math\n",
    "import cmath\n",
    "plt.rcParams['text.usetex'] = True\n",
    "plt.rcParams['figure.figsize'] = (7,8)\n",
    "plt.rcParams['axes.labelsize'] = 38"
   ]
  },
  {
   "cell_type": "markdown",
   "id": "expensive-empire",
   "metadata": {},
   "source": [
    "Let's do a plot k x gamma/u or k x u/gamma (relative field:external energies) with field."
   ]
  },
  {
   "cell_type": "markdown",
   "id": "unavailable-theta",
   "metadata": {},
   "source": [
    "decide on: alpha = -5, c = .5, n=6, kappa=H0=0."
   ]
  },
  {
   "cell_type": "markdown",
   "id": "systematic-industry",
   "metadata": {},
   "source": [
    "At each k from .2 to 1.2, I need field energies for all a, but only alpha=-5, c=.6 simultaions."
   ]
  },
  {
   "cell_type": "code",
   "execution_count": 2,
   "id": "dedicated-sampling",
   "metadata": {},
   "outputs": [],
   "source": [
    "ks = range(2,13,1)\n",
    "alpha=-5\n",
    "c=0.5"
   ]
  },
  {
   "cell_type": "code",
   "execution_count": 3,
   "id": "monthly-original",
   "metadata": {},
   "outputs": [],
   "source": [
    "paths= dict([])\n",
    "for k in ks:\n",
    "    paths_k = dict([(a,\"/home/jsk/cylinder/fixed_surfaces/k\"+str(k)+\"a\"+str(a)) for a in range(10)])\n",
    "    paths[k] = paths_k"
   ]
  },
  {
   "cell_type": "code",
   "execution_count": 4,
   "id": "covered-contamination",
   "metadata": {},
   "outputs": [],
   "source": [
    "def sort_csv(filename, dtype=float, fct=(lambda x: abs(x))):\n",
    "    if dtype==complex:\n",
    "        dtype = str\n",
    "        data=pd.read_csv(filename, index_col=0)\n",
    "        data=data.applymap(complex)\n",
    "        data=data.applymap(lambda x: fct(x))\n",
    "    else:\n",
    "        data=pd.read_csv(filename, index_col=0, dtype=dtype)\n",
    "    data.columns = data.columns.astype(\"float\")\n",
    "    data.index = data.index.astype(\"float\")\n",
    "    pd.DataFrame.sort_index(data, axis=0, inplace=True)\n",
    "    pd.DataFrame.sort_index(data, axis=1, inplace=True)\n",
    "    return data"
   ]
  },
  {
   "cell_type": "code",
   "execution_count": 5,
   "id": "invalid-uncertainty",
   "metadata": {},
   "outputs": [],
   "source": [
    "field_energies=dict([])\n",
    "for k in ks:\n",
    "    field_energies_k = dict([(a,sort_csv(os.path.join(paths[k][a], \"field_energy.csv\"), dtype=complex)) for a in paths[k]])\n",
    "    field_energies[k]= field_energies_k\n",
    "#dict to dataframe\n"
   ]
  },
  {
   "cell_type": "code",
   "execution_count": 6,
   "id": "timely-return",
   "metadata": {},
   "outputs": [
    {
     "data": {
      "text/plain": [
       "295.949021378129"
      ]
     },
     "execution_count": 6,
     "metadata": {},
     "output_type": "execute_result"
    }
   ],
   "source": [
    "field_energies[6][6].loc[c,alpha]"
   ]
  },
  {
   "cell_type": "markdown",
   "id": "sensitive-colonial",
   "metadata": {},
   "source": [
    "I then combine with surface tension to get energy minimizing a."
   ]
  },
  {
   "cell_type": "markdown",
   "id": "danish-newcastle",
   "metadata": {},
   "source": [
    "Retrieve surface area values (all energies are /2pi)"
   ]
  },
  {
   "cell_type": "code",
   "execution_count": 7,
   "id": "moderate-minneapolis",
   "metadata": {},
   "outputs": [
    {
     "data": {
      "text/html": [
       "<div>\n",
       "<style scoped>\n",
       "    .dataframe tbody tr th:only-of-type {\n",
       "        vertical-align: middle;\n",
       "    }\n",
       "\n",
       "    .dataframe tbody tr th {\n",
       "        vertical-align: top;\n",
       "    }\n",
       "\n",
       "    .dataframe thead th {\n",
       "        text-align: right;\n",
       "    }\n",
       "</style>\n",
       "<table border=\"1\" class=\"dataframe\">\n",
       "  <thead>\n",
       "    <tr style=\"text-align: right;\">\n",
       "      <th></th>\n",
       "      <th>0.2</th>\n",
       "      <th>0.3</th>\n",
       "      <th>0.4</th>\n",
       "      <th>0.5</th>\n",
       "      <th>0.6</th>\n",
       "      <th>0.7</th>\n",
       "      <th>0.8</th>\n",
       "      <th>0.9</th>\n",
       "      <th>1.0</th>\n",
       "      <th>1.1</th>\n",
       "      <th>1.2</th>\n",
       "    </tr>\n",
       "  </thead>\n",
       "  <tbody>\n",
       "    <tr>\n",
       "      <th>0.0</th>\n",
       "      <td>31.415927</td>\n",
       "      <td>20.943951</td>\n",
       "      <td>15.707963</td>\n",
       "      <td>12.566371</td>\n",
       "      <td>10.471976</td>\n",
       "      <td>8.975979</td>\n",
       "      <td>7.853982</td>\n",
       "      <td>6.981317</td>\n",
       "      <td>6.283185</td>\n",
       "      <td>5.711987</td>\n",
       "      <td>5.235988</td>\n",
       "    </tr>\n",
       "    <tr>\n",
       "      <th>0.1</th>\n",
       "      <td>31.340798</td>\n",
       "      <td>20.896463</td>\n",
       "      <td>15.675075</td>\n",
       "      <td>12.542864</td>\n",
       "      <td>10.455242</td>\n",
       "      <td>8.964527</td>\n",
       "      <td>7.846878</td>\n",
       "      <td>6.977940</td>\n",
       "      <td>6.283098</td>\n",
       "      <td>5.714871</td>\n",
       "      <td>5.241606</td>\n",
       "    </tr>\n",
       "    <tr>\n",
       "      <th>0.2</th>\n",
       "      <td>31.118597</td>\n",
       "      <td>20.755887</td>\n",
       "      <td>15.577570</td>\n",
       "      <td>12.473002</td>\n",
       "      <td>10.405300</td>\n",
       "      <td>8.930086</td>\n",
       "      <td>7.825168</td>\n",
       "      <td>6.967105</td>\n",
       "      <td>6.281832</td>\n",
       "      <td>5.722216</td>\n",
       "      <td>5.256835</td>\n",
       "    </tr>\n",
       "    <tr>\n",
       "      <th>0.3</th>\n",
       "      <td>30.758515</td>\n",
       "      <td>20.527687</td>\n",
       "      <td>15.418832</td>\n",
       "      <td>12.358730</td>\n",
       "      <td>10.322969</td>\n",
       "      <td>8.872507</td>\n",
       "      <td>7.787817</td>\n",
       "      <td>6.946938</td>\n",
       "      <td>6.276688</td>\n",
       "      <td>5.730493</td>\n",
       "      <td>5.277303</td>\n",
       "    </tr>\n",
       "    <tr>\n",
       "      <th>0.4</th>\n",
       "      <td>30.274725</td>\n",
       "      <td>20.220337</td>\n",
       "      <td>15.204171</td>\n",
       "      <td>12.203193</td>\n",
       "      <td>10.209704</td>\n",
       "      <td>8.791816</td>\n",
       "      <td>7.733573</td>\n",
       "      <td>6.914987</td>\n",
       "      <td>6.264059</td>\n",
       "      <td>5.734965</td>\n",
       "      <td>5.297151</td>\n",
       "    </tr>\n",
       "    <tr>\n",
       "      <th>0.5</th>\n",
       "      <td>29.684931</td>\n",
       "      <td>19.844510</td>\n",
       "      <td>14.940386</td>\n",
       "      <td>12.010563</td>\n",
       "      <td>10.067667</td>\n",
       "      <td>8.688504</td>\n",
       "      <td>7.661452</td>\n",
       "      <td>6.868928</td>\n",
       "      <td>6.240368</td>\n",
       "      <td>5.730861</td>\n",
       "      <td>5.310462</td>\n",
       "    </tr>\n",
       "    <tr>\n",
       "      <th>0.6</th>\n",
       "      <td>29.008736</td>\n",
       "      <td>19.412145</td>\n",
       "      <td>14.635234</td>\n",
       "      <td>11.785805</td>\n",
       "      <td>9.899717</td>\n",
       "      <td>8.563716</td>\n",
       "      <td>7.571137</td>\n",
       "      <td>6.807146</td>\n",
       "      <td>6.202826</td>\n",
       "      <td>5.714318</td>\n",
       "      <td>5.312379</td>\n",
       "    </tr>\n",
       "    <tr>\n",
       "      <th>0.7</th>\n",
       "      <td>28.266115</td>\n",
       "      <td>18.935550</td>\n",
       "      <td>14.296890</td>\n",
       "      <td>11.534372</td>\n",
       "      <td>9.709301</td>\n",
       "      <td>8.419308</td>\n",
       "      <td>7.463161</td>\n",
       "      <td>6.729042</td>\n",
       "      <td>6.149849</td>\n",
       "      <td>5.682881</td>\n",
       "      <td>5.299679</td>\n",
       "    </tr>\n",
       "    <tr>\n",
       "      <th>0.8</th>\n",
       "      <td>27.476153</td>\n",
       "      <td>18.426637</td>\n",
       "      <td>13.933444</td>\n",
       "      <td>11.261889</td>\n",
       "      <td>9.500265</td>\n",
       "      <td>8.257752</td>\n",
       "      <td>7.338890</td>\n",
       "      <td>6.635069</td>\n",
       "      <td>6.081123</td>\n",
       "      <td>5.635594</td>\n",
       "      <td>5.270860</td>\n",
       "    </tr>\n",
       "    <tr>\n",
       "      <th>0.9</th>\n",
       "      <td>26.656162</td>\n",
       "      <td>17.896361</td>\n",
       "      <td>13.552515</td>\n",
       "      <td>10.973856</td>\n",
       "      <td>9.276619</td>\n",
       "      <td>8.081942</td>\n",
       "      <td>7.200349</td>\n",
       "      <td>6.526564</td>\n",
       "      <td>5.997432</td>\n",
       "      <td>5.572792</td>\n",
       "      <td>5.225903</td>\n",
       "    </tr>\n",
       "  </tbody>\n",
       "</table>\n",
       "</div>"
      ],
      "text/plain": [
       "           0.2        0.3        0.4        0.5        0.6       0.7  \\\n",
       "0.0  31.415927  20.943951  15.707963  12.566371  10.471976  8.975979   \n",
       "0.1  31.340798  20.896463  15.675075  12.542864  10.455242  8.964527   \n",
       "0.2  31.118597  20.755887  15.577570  12.473002  10.405300  8.930086   \n",
       "0.3  30.758515  20.527687  15.418832  12.358730  10.322969  8.872507   \n",
       "0.4  30.274725  20.220337  15.204171  12.203193  10.209704  8.791816   \n",
       "0.5  29.684931  19.844510  14.940386  12.010563  10.067667  8.688504   \n",
       "0.6  29.008736  19.412145  14.635234  11.785805   9.899717  8.563716   \n",
       "0.7  28.266115  18.935550  14.296890  11.534372   9.709301  8.419308   \n",
       "0.8  27.476153  18.426637  13.933444  11.261889   9.500265  8.257752   \n",
       "0.9  26.656162  17.896361  13.552515  10.973856   9.276619  8.081942   \n",
       "\n",
       "          0.8       0.9       1.0       1.1       1.2  \n",
       "0.0  7.853982  6.981317  6.283185  5.711987  5.235988  \n",
       "0.1  7.846878  6.977940  6.283098  5.714871  5.241606  \n",
       "0.2  7.825168  6.967105  6.281832  5.722216  5.256835  \n",
       "0.3  7.787817  6.946938  6.276688  5.730493  5.277303  \n",
       "0.4  7.733573  6.914987  6.264059  5.734965  5.297151  \n",
       "0.5  7.661452  6.868928  6.240368  5.730861  5.310462  \n",
       "0.6  7.571137  6.807146  6.202826  5.714318  5.312379  \n",
       "0.7  7.463161  6.729042  6.149849  5.682881  5.299679  \n",
       "0.8  7.338890  6.635069  6.081123  5.635594  5.270860  \n",
       "0.9  7.200349  6.526564  5.997432  5.572792  5.225903  "
      ]
     },
     "execution_count": 7,
     "metadata": {},
     "output_type": "execute_result"
    }
   ],
   "source": [
    "surfdatatens=pd.read_csv(\"chapter2data/surfenergytens.csv\", index_col=0)\n",
    "surfdatatens"
   ]
  },
  {
   "cell_type": "code",
   "execution_count": 8,
   "id": "resident-scholarship",
   "metadata": {},
   "outputs": [
    {
     "data": {
      "text/html": [
       "<div>\n",
       "<style scoped>\n",
       "    .dataframe tbody tr th:only-of-type {\n",
       "        vertical-align: middle;\n",
       "    }\n",
       "\n",
       "    .dataframe tbody tr th {\n",
       "        vertical-align: top;\n",
       "    }\n",
       "\n",
       "    .dataframe thead th {\n",
       "        text-align: right;\n",
       "    }\n",
       "</style>\n",
       "<table border=\"1\" class=\"dataframe\">\n",
       "  <thead>\n",
       "    <tr style=\"text-align: right;\">\n",
       "      <th></th>\n",
       "      <th>0.2</th>\n",
       "      <th>0.3</th>\n",
       "      <th>0.4</th>\n",
       "      <th>0.5</th>\n",
       "      <th>0.6</th>\n",
       "      <th>0.7</th>\n",
       "      <th>0.8</th>\n",
       "      <th>0.9</th>\n",
       "      <th>1.0</th>\n",
       "      <th>1.1</th>\n",
       "      <th>1.2</th>\n",
       "      <th>1.3</th>\n",
       "    </tr>\n",
       "  </thead>\n",
       "  <tbody>\n",
       "    <tr>\n",
       "      <th>0.0</th>\n",
       "      <td>31.415927</td>\n",
       "      <td>20.943951</td>\n",
       "      <td>15.707963</td>\n",
       "      <td>12.566371</td>\n",
       "      <td>10.471976</td>\n",
       "      <td>8.975979</td>\n",
       "      <td>7.853982</td>\n",
       "      <td>6.981317</td>\n",
       "      <td>6.283185</td>\n",
       "      <td>5.711987</td>\n",
       "      <td>5.235988</td>\n",
       "      <td>4.833219</td>\n",
       "    </tr>\n",
       "    <tr>\n",
       "      <th>0.1</th>\n",
       "      <td>31.650140</td>\n",
       "      <td>21.098152</td>\n",
       "      <td>15.822232</td>\n",
       "      <td>12.657261</td>\n",
       "      <td>10.548325</td>\n",
       "      <td>9.043420</td>\n",
       "      <td>7.916638</td>\n",
       "      <td>7.042551</td>\n",
       "      <td>6.345975</td>\n",
       "      <td>5.779127</td>\n",
       "      <td>5.310211</td>\n",
       "      <td>4.917264</td>\n",
       "    </tr>\n",
       "    <tr>\n",
       "      <th>0.2</th>\n",
       "      <td>32.371212</td>\n",
       "      <td>21.573000</td>\n",
       "      <td>16.174124</td>\n",
       "      <td>12.937022</td>\n",
       "      <td>10.782972</td>\n",
       "      <td>9.250049</td>\n",
       "      <td>8.107614</td>\n",
       "      <td>7.227809</td>\n",
       "      <td>6.534152</td>\n",
       "      <td>5.978169</td>\n",
       "      <td>5.527714</td>\n",
       "      <td>5.160677</td>\n",
       "    </tr>\n",
       "    <tr>\n",
       "      <th>0.3</th>\n",
       "      <td>33.639531</td>\n",
       "      <td>22.408611</td>\n",
       "      <td>16.793442</td>\n",
       "      <td>13.428978</td>\n",
       "      <td>11.194490</td>\n",
       "      <td>9.610419</td>\n",
       "      <td>8.437592</td>\n",
       "      <td>7.543614</td>\n",
       "      <td>6.849429</td>\n",
       "      <td>6.305021</td>\n",
       "      <td>5.877276</td>\n",
       "      <td>5.543436</td>\n",
       "    </tr>\n",
       "    <tr>\n",
       "      <th>0.4</th>\n",
       "      <td>35.575572</td>\n",
       "      <td>23.685043</td>\n",
       "      <td>17.739758</td>\n",
       "      <td>14.179990</td>\n",
       "      <td>11.820653</td>\n",
       "      <td>10.154971</td>\n",
       "      <td>8.930390</td>\n",
       "      <td>8.007205</td>\n",
       "      <td>7.302016</td>\n",
       "      <td>6.762036</td>\n",
       "      <td>6.352247</td>\n",
       "      <td>6.048503</td>\n",
       "    </tr>\n",
       "    <tr>\n",
       "      <th>0.5</th>\n",
       "      <td>38.402752</td>\n",
       "      <td>25.550793</td>\n",
       "      <td>19.123761</td>\n",
       "      <td>15.277568</td>\n",
       "      <td>12.732848</td>\n",
       "      <td>10.942697</td>\n",
       "      <td>9.634606</td>\n",
       "      <td>8.657778</td>\n",
       "      <td>7.922079</td>\n",
       "      <td>7.370313</td>\n",
       "      <td>6.964386</td>\n",
       "      <td>6.677882</td>\n",
       "    </tr>\n",
       "    <tr>\n",
       "      <th>0.6</th>\n",
       "      <td>42.550120</td>\n",
       "      <td>28.291126</td>\n",
       "      <td>21.158392</td>\n",
       "      <td>16.890730</td>\n",
       "      <td>14.070157</td>\n",
       "      <td>12.090510</td>\n",
       "      <td>10.649624</td>\n",
       "      <td>9.580096</td>\n",
       "      <td>8.781649</td>\n",
       "      <td>8.190441</td>\n",
       "      <td>7.763773</td>\n",
       "      <td>7.471887</td>\n",
       "    </tr>\n",
       "    <tr>\n",
       "      <th>0.7</th>\n",
       "      <td>48.934216</td>\n",
       "      <td>32.515643</td>\n",
       "      <td>24.299205</td>\n",
       "      <td>19.382007</td>\n",
       "      <td>16.132464</td>\n",
       "      <td>13.852883</td>\n",
       "      <td>12.195183</td>\n",
       "      <td>10.966229</td>\n",
       "      <td>10.050066</td>\n",
       "      <td>9.372662</td>\n",
       "      <td>8.884348</td>\n",
       "      <td>8.550412</td>\n",
       "    </tr>\n",
       "    <tr>\n",
       "      <th>0.8</th>\n",
       "      <td>59.950806</td>\n",
       "      <td>39.818514</td>\n",
       "      <td>29.738594</td>\n",
       "      <td>23.701893</td>\n",
       "      <td>19.708249</td>\n",
       "      <td>16.901908</td>\n",
       "      <td>14.855510</td>\n",
       "      <td>13.331598</td>\n",
       "      <td>12.187361</td>\n",
       "      <td>11.331466</td>\n",
       "      <td>10.702554</td>\n",
       "      <td>10.257709</td>\n",
       "    </tr>\n",
       "    <tr>\n",
       "      <th>0.9</th>\n",
       "      <td>85.146511</td>\n",
       "      <td>56.555887</td>\n",
       "      <td>42.235049</td>\n",
       "      <td>33.648390</td>\n",
       "      <td>27.953683</td>\n",
       "      <td>23.934094</td>\n",
       "      <td>20.981421</td>\n",
       "      <td>18.757426</td>\n",
       "      <td>17.058567</td>\n",
       "      <td>15.754663</td>\n",
       "      <td>14.758317</td>\n",
       "      <td>14.008500</td>\n",
       "    </tr>\n",
       "  </tbody>\n",
       "</table>\n",
       "</div>"
      ],
      "text/plain": [
       "           0.2        0.3        0.4        0.5        0.6        0.7  \\\n",
       "0.0  31.415927  20.943951  15.707963  12.566371  10.471976   8.975979   \n",
       "0.1  31.650140  21.098152  15.822232  12.657261  10.548325   9.043420   \n",
       "0.2  32.371212  21.573000  16.174124  12.937022  10.782972   9.250049   \n",
       "0.3  33.639531  22.408611  16.793442  13.428978  11.194490   9.610419   \n",
       "0.4  35.575572  23.685043  17.739758  14.179990  11.820653  10.154971   \n",
       "0.5  38.402752  25.550793  19.123761  15.277568  12.732848  10.942697   \n",
       "0.6  42.550120  28.291126  21.158392  16.890730  14.070157  12.090510   \n",
       "0.7  48.934216  32.515643  24.299205  19.382007  16.132464  13.852883   \n",
       "0.8  59.950806  39.818514  29.738594  23.701893  19.708249  16.901908   \n",
       "0.9  85.146511  56.555887  42.235049  33.648390  27.953683  23.934094   \n",
       "\n",
       "           0.8        0.9        1.0        1.1        1.2        1.3  \n",
       "0.0   7.853982   6.981317   6.283185   5.711987   5.235988   4.833219  \n",
       "0.1   7.916638   7.042551   6.345975   5.779127   5.310211   4.917264  \n",
       "0.2   8.107614   7.227809   6.534152   5.978169   5.527714   5.160677  \n",
       "0.3   8.437592   7.543614   6.849429   6.305021   5.877276   5.543436  \n",
       "0.4   8.930390   8.007205   7.302016   6.762036   6.352247   6.048503  \n",
       "0.5   9.634606   8.657778   7.922079   7.370313   6.964386   6.677882  \n",
       "0.6  10.649624   9.580096   8.781649   8.190441   7.763773   7.471887  \n",
       "0.7  12.195183  10.966229  10.050066   9.372662   8.884348   8.550412  \n",
       "0.8  14.855510  13.331598  12.187361  11.331466  10.702554  10.257709  \n",
       "0.9  20.981421  18.757426  17.058567  15.754663  14.758317  14.008500  "
      ]
     },
     "execution_count": 8,
     "metadata": {},
     "output_type": "execute_result"
    }
   ],
   "source": [
    "curvdatatens=pd.read_csv(\"chapter2data/curvenergytens.csv\", index_col=0)\n",
    "curvdatatens"
   ]
  },
  {
   "cell_type": "code",
   "execution_count": 9,
   "id": "naked-walter",
   "metadata": {},
   "outputs": [
    {
     "data": {
      "image/png": "[encoded data removed]",
      "text/plain": [
       "<Figure size 504x576 with 2 Axes>"
      ]
     },
     "metadata": {
      "needs_background": "light"
     },
     "output_type": "display_data"
    }
   ],
   "source": [
    "minimum_as = dict([])\n",
    "minimum_Es = dict([])\n",
    "gammas=np.arange(0,50,1)\n",
    "kappa=0\n",
    "for gamma in gammas:\n",
    "    minimum_as_row = dict([])\n",
    "    minimum_Es_row = dict([])\n",
    "    for k in ks:\n",
    "        energies = [(field_energies[k][a].loc[c, alpha]+gamma*2*math.pi*surfdatatens.loc[a/10,str(k/10)]+kappa*math.pi*curvdatatens.loc[a/10,str(k/10)]\n",
    "                     ,a) for a in paths[k]]\n",
    "        energy, a = min(energies)\n",
    "        minimum_as_row[k]= a\n",
    "        minimum_Es_row[k] = energy*(k/10)\n",
    "    minimum_as[gamma]=minimum_as_row\n",
    "    minimum_Es[gamma] = minimum_Es_row\n",
    "minimum_as = pd.DataFrame(minimum_as)\n",
    "minimum_Es = pd.DataFrame(minimum_Es)\n",
    "sb.heatmap(minimum_as)\n",
    "plt.gca().invert_yaxis()"
   ]
  },
  {
   "cell_type": "code",
   "execution_count": 10,
   "id": "protecting-juvenile",
   "metadata": {},
   "outputs": [
    {
     "data": {
      "image/png": "[encoded data removed]",
      "text/plain": [
       "<Figure size 504x576 with 2 Axes>"
      ]
     },
     "metadata": {
      "needs_background": "light"
     },
     "output_type": "display_data"
    }
   ],
   "source": [
    "minimum_as = dict([])\n",
    "minimum_Es = dict([])\n",
    "gamma=100\n",
    "kappas=np.arange(0,70, 1)\n",
    "alpha=-4\n",
    "c=0.5\n",
    "for kappa in kappas:\n",
    "    minimum_as_row = dict([])\n",
    "    minimum_Es_row = dict([])\n",
    "    for k in ks:\n",
    "        energies = [(field_energies[k][a].loc[c, alpha]+gamma*2*math.pi*surfdatatens.loc[a/10,str(k/10)]+kappa*math.pi*curvdatatens.loc[a/10,str(k/10)]\n",
    "                     ,a) for a in paths[k]]\n",
    "        energy, a = min(energies)\n",
    "        minimum_as_row[k]= a\n",
    "        minimum_Es_row[k] = energy*(k/10)\n",
    "    minimum_as[kappa]=minimum_as_row\n",
    "    minimum_Es[kappa] = minimum_Es_row\n",
    "minimum_as = pd.DataFrame(minimum_as)\n",
    "minimum_Es = pd.DataFrame(minimum_Es)\n",
    "sb.heatmap(minimum_as, cmap='bone', vmin=0, vmax=9)\n",
    "plt.gca().invert_yaxis()"
   ]
  },
  {
   "cell_type": "code",
   "execution_count": 11,
   "id": "norwegian-journey",
   "metadata": {},
   "outputs": [
    {
     "data": {
      "image/png": "[encoded data removed]",
      "text/plain": [
       "<Figure size 504x576 with 2 Axes>"
      ]
     },
     "metadata": {
      "needs_background": "light"
     },
     "output_type": "display_data"
    }
   ],
   "source": [
    "minimum_as = dict([])\n",
    "minimum_Es = dict([])\n",
    "gamma=100\n",
    "kappa=10\n",
    "alpha=-3\n",
    "cs=np.arange(.5,9.5, 1)\n",
    "for c in cs:\n",
    "    minimum_as_row = dict([])\n",
    "    minimum_Es_row = dict([])\n",
    "    for k in ks:\n",
    "        energies = [(1*field_energies[k][a].loc[c, alpha]+gamma*2*math.pi*surfdatatens.loc[a/10,str(k/10)]+kappa*math.pi*curvdatatens.loc[a/10,str(k/10)]\n",
    "                     ,a) for a in paths[k]]\n",
    "        energy, a = min(energies)\n",
    "        minimum_as_row[k]= a\n",
    "        minimum_Es_row[k] = energy*(k/10)\n",
    "    minimum_as[c]=minimum_as_row\n",
    "    minimum_Es[c] = minimum_Es_row\n",
    "minimum_as = pd.DataFrame(minimum_as)\n",
    "minimum_Es = pd.DataFrame(minimum_Es)\n",
    "sb.heatmap(minimum_as, cmap='bone',vmin=0, vmax=1)\n",
    "plt.gca().invert_yaxis()"
   ]
  },
  {
   "cell_type": "code",
   "execution_count": 12,
   "id": "immune-peter",
   "metadata": {},
   "outputs": [
    {
     "data": {
      "image/png": "[encoded data removed]",
      "text/plain": [
       "<Figure size 504x576 with 2 Axes>"
      ]
     },
     "metadata": {
      "needs_background": "light"
     },
     "output_type": "display_data"
    }
   ],
   "source": [
    "minimum_as = dict([])\n",
    "minimum_Es = dict([])\n",
    "gamma=100\n",
    "kappa=0\n",
    "exts=np.arange(0, 3, .01)\n",
    "for ext in exts:\n",
    "    minimum_as_row = dict([])\n",
    "    minimum_Es_row = dict([])\n",
    "    for k in ks:\n",
    "        energies = [(ext*field_energies[k][a].loc[c, alpha]+gamma*2*math.pi*surfdatatens.loc[a/10,str(k/10)]+kappa*math.pi*curvdatatens.loc[a/10,str(k/10)]\n",
    "                     ,a) for a in paths[k]]\n",
    "        energy, a = min(energies)\n",
    "        minimum_as_row[k]= a\n",
    "        minimum_Es_row[k] = energy*(k/10)\n",
    "    minimum_as[ext]=minimum_as_row\n",
    "    minimum_Es[ext] = minimum_Es_row\n",
    "minimum_as = pd.DataFrame(minimum_as)\n",
    "minimum_Es = pd.DataFrame(minimum_Es)\n",
    "sb.heatmap(minimum_as, vmax=10, vmin=0, cmap='bone')\n",
    "plt.gca().invert_yaxis()"
   ]
  },
  {
   "cell_type": "markdown",
   "id": "falling-cartoon",
   "metadata": {},
   "source": [
    "alpha=-5, c=.5: We see that field strength >1/100th gamma stabilizes, field strengt <1/600th gamma has no effect.  "
   ]
  },
  {
   "cell_type": "markdown",
   "id": "median-kitty",
   "metadata": {},
   "source": [
    "Tried other things: with alpha=-1, c=.5 field has no effect from gamma=100.  At alpha=-5, c=8.5, the upper limit is similar form as before, but field also stabilizes on smaller k (longer objects).  These are of the type that only go between N=0 and no field.  This regime seems to start at c=3.5, though more adjustments are possible on longer (smaller k) cylinders."
   ]
  },
  {
   "cell_type": "markdown",
   "id": "objective-scout",
   "metadata": {},
   "source": [
    "smaller k - more extreme surface area difference - would think surface tension part more likely to win.  But unexpectedly differences in field energy are also more extreme on longer cylinders, where choosing between N=0 and isotropic.  At high c, field can't adjust profile either."
   ]
  },
  {
   "cell_type": "markdown",
   "id": "transsexual-smoke",
   "metadata": {},
   "source": [
    "At high c, high alpha (5.5, -5) cylinder is stabilized almost everywhere - maybe the two regions hae joined"
   ]
  },
  {
   "cell_type": "markdown",
   "id": "thorough-dispatch",
   "metadata": {},
   "source": [
    "Now using alpha=-3, c=5.5 to see interesting effect"
   ]
  },
  {
   "cell_type": "markdown",
   "id": "atmospheric-partnership",
   "metadata": {},
   "source": [
    "Only amplitudes 0 or .9 are seen so far."
   ]
  },
  {
   "cell_type": "code",
   "execution_count": 13,
   "id": "disturbed-twenty",
   "metadata": {},
   "outputs": [
    {
     "data": {
      "image/png": "[encoded data removed]",
      "text/plain": [
       "<Figure size 504x576 with 2 Axes>"
      ]
     },
     "metadata": {
      "needs_background": "light"
     },
     "output_type": "display_data"
    }
   ],
   "source": [
    "sb.heatmap(minimum_Es)\n",
    "plt.gca().invert_yaxis()"
   ]
  },
  {
   "cell_type": "markdown",
   "id": "inside-madness",
   "metadata": {},
   "source": [
    "Additionally look at all the minimum configurations and label them - in this case just the a=.9 s from different ksets."
   ]
  },
  {
   "cell_type": "code",
   "execution_count": 14,
   "id": "acquired-stick",
   "metadata": {},
   "outputs": [],
   "source": [
    "def kcrit_old(gamma, kappa, alpha, c, n, u=1):\n",
    "    #g is gamma/kappa ratio\n",
    "    g=gamma/kappa\n",
    "    # then c is similarly c/kappa ,  i.e. kappa set to 1\n",
    "    discriminant1 =-23 + 12 * g +4 * g**2\n",
    "    if alpha<0:\n",
    "        discriminant1 -=32*(abs(alpha)*c*n**2/(2*u))/gamma #c is in units of gamma\n",
    "        #alpha, u are techincally also in units gamma but their scaling cancels\n",
    "    #(else if alpha>=0 add 0 for field)\n",
    "    #print(discriminant1)\n",
    "    if discriminant1<0:\n",
    "        return None\n",
    "    else:\n",
    "        discriminant2 = 1-2*g+  math.sqrt(discriminant1)\n",
    "        #print(discriminant2)\n",
    "        if discriminant2 <0:\n",
    "            return None\n",
    "        else:\n",
    "            return .5*math.sqrt(discriminant2)"
   ]
  },
  {
   "cell_type": "code",
   "execution_count": 15,
   "id": "insured-residence",
   "metadata": {},
   "outputs": [],
   "source": [
    "def kcrit(gamma, kappa, alpha, c, n, u=1):\n",
    "    #g is gamma/kappa ratio\n",
    "    g=gamma/kappa\n",
    "    # then c is similarly c/kappa ,  i.e. kappa set to 1\n",
    "    discriminant1 =-23 + 12 * g +4 * g**2\n",
    "    if alpha<0:\n",
    "        X= c*n**2*abs(alpha)/(2*u*kappa)\n",
    "        discriminant1 += -16 *X + 64* X**2 + 32 *X*g \n",
    "    #(else if alpha>=0 add 0 for field)\n",
    "    #print(discriminant1)\n",
    "    if discriminant1<0:\n",
    "        return None\n",
    "    else:\n",
    "        discriminant2 = 1-2*g+  math.sqrt(discriminant1)\n",
    "        if alpha<0:\n",
    "            discriminant2-= 8 *X\n",
    "        #print(discriminant2)\n",
    "        if discriminant2 <0:\n",
    "            return None\n",
    "        else:\n",
    "            return .5*math.sqrt(discriminant2)"
   ]
  },
  {
   "cell_type": "code",
   "execution_count": 16,
   "id": "organic-doubt",
   "metadata": {},
   "outputs": [
    {
     "name": "stdout",
     "output_type": "stream",
     "text": [
      "999.9997499989687\n"
     ]
    }
   ],
   "source": [
    "print(kcrit(1000000, -1, .015, 6, 1))"
   ]
  },
  {
   "cell_type": "code",
   "execution_count": 17,
   "id": "residential-publication",
   "metadata": {},
   "outputs": [
    {
     "ename": "TypeError",
     "evalue": "kcrit() missing 1 required positional argument: 'kappa'",
     "output_type": "error",
     "traceback": [
      "\u001b[0;31m---------------------------------------------------------------------------\u001b[0m",
      "\u001b[0;31mTypeError\u001b[0m                                 Traceback (most recent call last)",
      "\u001b[0;32m<ipython-input-17-fc2ac9da576d>\u001b[0m in \u001b[0;36m<module>\u001b[0;34m\u001b[0m\n\u001b[1;32m     28\u001b[0m \u001b[0msb\u001b[0m\u001b[0;34m.\u001b[0m\u001b[0mheatmap\u001b[0m\u001b[0;34m(\u001b[0m\u001b[0mminimum_as\u001b[0m\u001b[0;34m,\u001b[0m \u001b[0mcmap\u001b[0m\u001b[0;34m=\u001b[0m\u001b[0;34m'bone'\u001b[0m\u001b[0;34m,\u001b[0m \u001b[0mvmin\u001b[0m\u001b[0;34m=\u001b[0m\u001b[0;36m0\u001b[0m\u001b[0;34m,\u001b[0m \u001b[0mvmax\u001b[0m\u001b[0;34m=\u001b[0m\u001b[0;36m.9\u001b[0m\u001b[0;34m,\u001b[0m\u001b[0mcbar_kws\u001b[0m\u001b[0;34m=\u001b[0m\u001b[0;34m{\u001b[0m\u001b[0;34m'label'\u001b[0m\u001b[0;34m:\u001b[0m \u001b[0;34m'|a|'\u001b[0m\u001b[0;34m}\u001b[0m\u001b[0;34m)\u001b[0m\u001b[0;34m\u001b[0m\u001b[0;34m\u001b[0m\u001b[0m\n\u001b[1;32m     29\u001b[0m \u001b[0;34m\u001b[0m\u001b[0m\n\u001b[0;32m---> 30\u001b[0;31m \u001b[0mkcrits_\u001b[0m \u001b[0;34m=\u001b[0m \u001b[0;34m[\u001b[0m\u001b[0mkcrit\u001b[0m\u001b[0;34m(\u001b[0m\u001b[0mgamma\u001b[0m\u001b[0;34m/\u001b[0m\u001b[0mkappa\u001b[0m\u001b[0;34m,\u001b[0m \u001b[0malpha\u001b[0m\u001b[0;34m=\u001b[0m\u001b[0;36m.01\u001b[0m\u001b[0;34m*\u001b[0m\u001b[0malpha\u001b[0m\u001b[0;34m,\u001b[0m \u001b[0mc\u001b[0m\u001b[0;34m=\u001b[0m\u001b[0mc\u001b[0m\u001b[0;34m,\u001b[0m \u001b[0mn\u001b[0m\u001b[0;34m=\u001b[0m\u001b[0;36m6\u001b[0m\u001b[0;34m)\u001b[0m \u001b[0;32mfor\u001b[0m \u001b[0mkappa\u001b[0m \u001b[0;32min\u001b[0m \u001b[0mkappas\u001b[0m \u001b[0;32mif\u001b[0m \u001b[0mkappa\u001b[0m\u001b[0;34m!=\u001b[0m\u001b[0;36m0\u001b[0m\u001b[0;34m]\u001b[0m\u001b[0;34m\u001b[0m\u001b[0;34m\u001b[0m\u001b[0m\n\u001b[0m\u001b[1;32m     31\u001b[0m plt.plot([kappa*len(minimum_as.columns)/.7 for kappa,kc in zip(kappas, kcrits_) if kc is not None], \n\u001b[1;32m     32\u001b[0m          [(kc-.25)*len(minimum_as.index)/1.0 for kc in kcrits_ if kc is not None], color='red')\n",
      "\u001b[0;32m<ipython-input-17-fc2ac9da576d>\u001b[0m in \u001b[0;36m<listcomp>\u001b[0;34m(.0)\u001b[0m\n\u001b[1;32m     28\u001b[0m \u001b[0msb\u001b[0m\u001b[0;34m.\u001b[0m\u001b[0mheatmap\u001b[0m\u001b[0;34m(\u001b[0m\u001b[0mminimum_as\u001b[0m\u001b[0;34m,\u001b[0m \u001b[0mcmap\u001b[0m\u001b[0;34m=\u001b[0m\u001b[0;34m'bone'\u001b[0m\u001b[0;34m,\u001b[0m \u001b[0mvmin\u001b[0m\u001b[0;34m=\u001b[0m\u001b[0;36m0\u001b[0m\u001b[0;34m,\u001b[0m \u001b[0mvmax\u001b[0m\u001b[0;34m=\u001b[0m\u001b[0;36m.9\u001b[0m\u001b[0;34m,\u001b[0m\u001b[0mcbar_kws\u001b[0m\u001b[0;34m=\u001b[0m\u001b[0;34m{\u001b[0m\u001b[0;34m'label'\u001b[0m\u001b[0;34m:\u001b[0m \u001b[0;34m'|a|'\u001b[0m\u001b[0;34m}\u001b[0m\u001b[0;34m)\u001b[0m\u001b[0;34m\u001b[0m\u001b[0;34m\u001b[0m\u001b[0m\n\u001b[1;32m     29\u001b[0m \u001b[0;34m\u001b[0m\u001b[0m\n\u001b[0;32m---> 30\u001b[0;31m \u001b[0mkcrits_\u001b[0m \u001b[0;34m=\u001b[0m \u001b[0;34m[\u001b[0m\u001b[0mkcrit\u001b[0m\u001b[0;34m(\u001b[0m\u001b[0mgamma\u001b[0m\u001b[0;34m/\u001b[0m\u001b[0mkappa\u001b[0m\u001b[0;34m,\u001b[0m \u001b[0malpha\u001b[0m\u001b[0;34m=\u001b[0m\u001b[0;36m.01\u001b[0m\u001b[0;34m*\u001b[0m\u001b[0malpha\u001b[0m\u001b[0;34m,\u001b[0m \u001b[0mc\u001b[0m\u001b[0;34m=\u001b[0m\u001b[0mc\u001b[0m\u001b[0;34m,\u001b[0m \u001b[0mn\u001b[0m\u001b[0;34m=\u001b[0m\u001b[0;36m6\u001b[0m\u001b[0;34m)\u001b[0m \u001b[0;32mfor\u001b[0m \u001b[0mkappa\u001b[0m \u001b[0;32min\u001b[0m \u001b[0mkappas\u001b[0m \u001b[0;32mif\u001b[0m \u001b[0mkappa\u001b[0m\u001b[0;34m!=\u001b[0m\u001b[0;36m0\u001b[0m\u001b[0;34m]\u001b[0m\u001b[0;34m\u001b[0m\u001b[0;34m\u001b[0m\u001b[0m\n\u001b[0m\u001b[1;32m     31\u001b[0m plt.plot([kappa*len(minimum_as.columns)/.7 for kappa,kc in zip(kappas, kcrits_) if kc is not None], \n\u001b[1;32m     32\u001b[0m          [(kc-.25)*len(minimum_as.index)/1.0 for kc in kcrits_ if kc is not None], color='red')\n",
      "\u001b[0;31mTypeError\u001b[0m: kcrit() missing 1 required positional argument: 'kappa'"
     ]
    },
    {
     "data": {
      "image/png": "[encoded data removed]",
      "text/plain": [
       "<Figure size 504x576 with 2 Axes>"
      ]
     },
     "metadata": {
      "needs_background": "light"
     },
     "output_type": "display_data"
    }
   ],
   "source": [
    "gs = list(np.arange(1, 100, .01))\n",
    "gs.extend([100,500,1000,10000,100000])\n",
    "\n",
    "minimum_as = dict([])\n",
    "minimum_Es = dict([])\n",
    "gamma=1\n",
    "kappas=np.arange(0,.7, .01)\n",
    "alpha=1\n",
    "c=1.5\n",
    "for kappa in kappas:\n",
    "    minimum_as_row = dict([])\n",
    "    minimum_Es_row = dict([])\n",
    "    for k in range(2,6):\n",
    "        minimum_as_row[k]= np.nan\n",
    "    for k in ks:\n",
    "        energies = [(0.01*field_energies[k][a].loc[c, alpha]+gamma*2*math.pi*surfdatatens.loc[a/10,str(k/10)]\n",
    "                     +kappa*math.pi*curvdatatens.loc[a/10,str(k/10)]\n",
    "                     ,a/10) for a in paths[k]]\n",
    "        energy, a = min(energies)\n",
    "        minimum_as_row[k]= a\n",
    "        minimum_Es_row[k] = energy*(k/10)\n",
    "    minimum_as[kappa]=minimum_as_row\n",
    "    minimum_Es[kappa] = minimum_Es_row\n",
    "minimum_as = pd.DataFrame(minimum_as)\n",
    "minimum_Es = pd.DataFrame(minimum_Es)\n",
    "minimum_as.index=[x/10 for x in minimum_as.index]\n",
    "minimum_as.columns=[round(x,5) for x in minimum_as.columns]\n",
    "sb.heatmap(minimum_as, cmap='bone', vmin=0, vmax=.9,cbar_kws={'label': '|a|'})\n",
    "\n",
    "kcrits_ = [kcrit(gamma/kappa, alpha=.01*alpha, c=c, n=6) for kappa in kappas if kappa!=0]\n",
    "plt.plot([kappa*len(minimum_as.columns)/.7 for kappa,kc in zip(kappas, kcrits_) if kc is not None], \n",
    "         [(kc-.25)*len(minimum_as.index)/1.0 for kc in kcrits_ if kc is not None], color='red')\n",
    "kcrits_0 = [kcrit(gamma/kappa, alpha=0, c=0, n=0) for kappa in kappas if kappa !=0]\n",
    "#plt.plot([1/g*len(minimum_as.columns)/.7 for g,kc in zip(gs, kcrits_0) if kc is not None], \n",
    "#         [(kc-.25)*len(minimum_as.index)/1.0 for kc in kcrits_0 if kc is not None], color='red', linestyle=\":\")\n",
    "\n",
    "plt.gca().invert_yaxis()\n",
    "#plt.ylabel('k_c')\n",
    "#plt.xlabel('kappa/gamma')\n",
    "#plt.savefig(\"k_kappa_mapline_n6_alpha1_c1p5.png\")"
   ]
  },
  {
   "cell_type": "code",
   "execution_count": null,
   "id": "younger-notice",
   "metadata": {},
   "outputs": [],
   "source": [
    "#alpha=-4\n",
    "kcrits_ = [kcrit(g, alpha=.01*alpha, c=c, n=6) for g in gs]\n",
    "plt.plot([1/g for g,kc in zip(gs, kcrits_) if kc is not None], [kc for kc in kcrits_ if kc is not None])\n",
    "plt.xlim((0,.7))\n",
    "#plt.savefig(\"k_kappa_line_n6_alpham-4_c1p5.png\")"
   ]
  },
  {
   "cell_type": "code",
   "execution_count": null,
   "id": "incoming-compatibility",
   "metadata": {},
   "outputs": [],
   "source": [
    "plt.plot([kappa for kappa,kc in zip(kappas, kcrits_) if kc is not None], \n",
    "         [kc for kc in kcrits_ if kc is not None], color='red')\n",
    "plt.plot([kappa for kappa,kc in zip(kappas, kcrits_0) if kc is not None], \n",
    "         [kc for kc in kcrits_0 if kc is not None], color='red')\n",
    "plt.ylim((.15, 1.25))\n",
    "plt.xlim((-0.005, .705))"
   ]
  },
  {
   "cell_type": "code",
   "execution_count": null,
   "id": "increased-minority",
   "metadata": {
    "scrolled": true
   },
   "outputs": [],
   "source": [
    "minimum_as = dict([])\n",
    "minimum_Es = dict([])\n",
    "gamma=1\n",
    "kappas=np.arange(0,.7, .01)\n",
    "kappas[0]+=.000001\n",
    "alpha=1\n",
    "c=1.5\n",
    "field_factor=0.0\n",
    "for kappa in kappas:\n",
    "    minimum_as_row = dict([])\n",
    "    minimum_Es_row = dict([])\n",
    "    for k in range(2,6):\n",
    "        minimum_as_row[k]= np.nan\n",
    "    for k in ks:\n",
    "        energies = [(field_factor*field_energies[k][a].loc[c, alpha]+gamma*2*math.pi*surfdatatens.loc[a/10,str(k/10)]+kappa*math.pi*curvdatatens.loc[a/10,str(k/10)]\n",
    "                     ,a) for a in paths[k]]\n",
    "        energy, a = min(energies)\n",
    "        minimum_as_row[k]= a/10\n",
    "        minimum_Es_row[k] = energy*(k/10)\n",
    "    minimum_as[kappa]=minimum_as_row\n",
    "    minimum_Es[kappa] = minimum_Es_row\n",
    "minimum_as = pd.DataFrame(minimum_as)\n",
    "minimum_Es = pd.DataFrame(minimum_Es)\n",
    "minimum_as.index=[x/10 for x in minimum_as.index]\n",
    "minimum_as.columns=[round(x,5) for x in minimum_as.columns]\n",
    "sb.heatmap(minimum_as, cmap='bone', vmin=0, vmax=.9, cbar_kws={'label': r'shape amplitude $a$'},\n",
    "          xticklabels=10)\n",
    "kcrits_ = [kcrit(gamma,kappa, alpha=field_factor*alpha, c=field_factor*c, n=6, u=field_factor*1) for kappa in kappas if kappa!=0]\n",
    "plt.plot([(kappa*len(minimum_as.columns)+.005)/.705 for kappa,kc in zip(kappas, kcrits_) if kc is not None], \n",
    "         [(kc-.2+.05)*(len(minimum_as.index))/1.1 for kc in kcrits_ if kc is not None], color='red')\n",
    "kcrits_0 = [kcrit(gamma,kappa, alpha=0, c=0, n=0) for kappa in kappas if kappa !=0]\n",
    "plt.plot([(kappa*len(minimum_as.columns)+.005)/.705 for kappa,kc in zip(kappas, kcrits_0) if kc is not None], \n",
    "         [(kc-.2+.05)*(len(minimum_as.index))/1.1 for kc in kcrits_0 if kc is not None], color='red', linestyle=\":\")\n",
    "\n",
    "plt.gca().invert_yaxis()\n",
    "plt.ylabel(r'wavenumber $k$')\n",
    "plt.xlabel(r'bending rigidity $\\kappa/\\gamma$')\n",
    "plt.savefig(\"k_kappa_mapline_nofield.png\",bbox_inches = 'tight')"
   ]
  },
  {
   "cell_type": "code",
   "execution_count": null,
   "id": "usual-channels",
   "metadata": {},
   "outputs": [],
   "source": [
    "paths[6]"
   ]
  },
  {
   "cell_type": "code",
   "execution_count": null,
   "id": "distinguished-journalist",
   "metadata": {},
   "outputs": [],
   "source": []
  },
  {
   "cell_type": "code",
   "execution_count": 19,
   "id": "senior-height",
   "metadata": {},
   "outputs": [],
   "source": [
    "stability_field_m4=pd.read_csv(\"pinch_off_stability_field_m4.csv\", index_col=1)"
   ]
  },
  {
   "cell_type": "code",
   "execution_count": null,
   "id": "essential-entry",
   "metadata": {},
   "outputs": [],
   "source": []
  }
 ],
 "metadata": {
  "kernelspec": {
   "display_name": "Python 3",
   "language": "python",
   "name": "python3"
  },
  "language_info": {
   "codemirror_mode": {
    "name": "ipython",
    "version": 3
   },
   "file_extension": ".py",
   "mimetype": "text/x-python",
   "name": "python",
   "nbconvert_exporter": "python",
   "pygments_lexer": "ipython3",
   "version": "3.8.5"
  }
 },
 "nbformat": 4,
 "nbformat_minor": 5
}
